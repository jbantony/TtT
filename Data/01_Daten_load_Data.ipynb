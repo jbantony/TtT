{
  "nbformat": 4,
  "nbformat_minor": 0,
  "metadata": {
    "cite2c": {
      "citations": {
        "7429414/A3M3BHVX": {
          "URL": "http://archive.ics.uci.edu/ml/datasets/Gas+Sensor+Array+Drift+Dataset+at+Different+Concentrations",
          "accessed": {
            "day": 14,
            "month": 12,
            "year": 2019
          },
          "id": "7429414/A3M3BHVX",
          "title": "UCI Machine Learning Repository: Gas Sensor Array Drift Dataset at Different Concentrations Data Set",
          "type": "webpage"
        },
        "7429414/F5MSIETD": {
          "URL": "https://scikit-learn.org/stable/modules/feature_selection.html",
          "accessed": {
            "day": 14,
            "month": 12,
            "year": 2019
          },
          "id": "7429414/F5MSIETD",
          "title": "1.13. Feature selection — scikit-learn 0.22 documentation",
          "type": "webpage"
        },
        "7429414/P3YHU5HB": {
          "URL": "https://github.com/pandas-profiling/pandas-profiling",
          "accessed": {
            "day": 14,
            "month": 12,
            "year": 2019
          },
          "id": "7429414/P3YHU5HB",
          "title": "pandas-profiling/pandas-profiling: Create HTML profiling reports from pandas DataFrame objects",
          "type": "webpage"
        },
        "7429414/PJ6TJEXS": {
          "URL": "https://pandas.pydata.org/pandas-docs/stable/user_guide/indexing.html",
          "accessed": {
            "day": 16,
            "month": 12,
            "year": 2019
          },
          "id": "7429414/PJ6TJEXS",
          "title": "Indexing and selecting data — pandas 0.25.3 documentation",
          "type": "webpage"
        },
        "7429414/WP7NDQ54": {
          "URL": "https://scikit-learn.org/stable/auto_examples/model_selection/plot_cv_indices.html#sphx-glr-auto-examples-model-selection-plot-cv-indices-py",
          "accessed": {
            "day": 14,
            "month": 12,
            "year": 2019
          },
          "id": "7429414/WP7NDQ54",
          "title": "Visualizing cross-validation behavior in scikit-learn — scikit-learn 0.22 documentation",
          "type": "webpage"
        },
        "7429414/YMEC4PBD": {
          "URL": "https://www.shanelynn.ie/select-pandas-dataframe-rows-and-columns-using-iloc-loc-and-ix/",
          "abstract": "Pandas Data Selection There are multiple ways to select and index rows and columns from Pandas DataFrames. I find tutorials online focusing on advanced selections of row and column choices a little…",
          "accessed": {
            "day": 14,
            "month": 12,
            "year": 2019
          },
          "author": [
            {
              "family": "shanelynn",
              "given": ""
            }
          ],
          "container-title": "Shane Lynn",
          "id": "7429414/YMEC4PBD",
          "issued": {
            "day": 2,
            "month": 10,
            "year": 2016
          },
          "language": "en-US",
          "title": "Using iloc, loc, & ix to select rows and columns in Pandas DataFrames",
          "type": "webpage"
        }
      }
    },
    "kernelspec": {
      "display_name": "Python 3",
      "language": "python",
      "name": "python3"
    },
    "language_info": {
      "codemirror_mode": {
        "name": "ipython",
        "version": 3
      },
      "file_extension": ".py",
      "mimetype": "text/x-python",
      "name": "python",
      "nbconvert_exporter": "python",
      "pygments_lexer": "ipython3",
      "version": "3.7.7"
    },
    "colab": {
      "name": "01_Daten_load_Data.ipynb",
      "provenance": []
    }
  },
  "cells": [
    {
      "cell_type": "markdown",
      "metadata": {
        "id": "t-2zQ-bGsBLv"
      },
      "source": [
        "# Modul Daten"
      ]
    },
    {
      "cell_type": "markdown",
      "metadata": {
        "id": "_nuVrwV8sBLw"
      },
      "source": [
        "Dieses Jupyter Notebook soll einen Überblick über die Aufbereitung, Bereinigung und Visualisierung von Daten vermitteln. \n",
        "\n",
        "Für diesen Zweck wurde die Datenbank Gas Sensor Array Drift verwendet, heruntergeladen und vorher für diesen Zweck manipuliert (Gas- und Konzentrationsklassenlabel wurden zu einem Label zusammen geführt und dabei drei verschiedene Konzentrationsstufen definiert: low, medium und high). <br>\n",
        "Der vollständige Datensatz kann auf <br>\n",
        "\n",
        "http://archive.ics.uci.edu/ml/datasets/Gas+Sensor+Array+Drift+Dataset+at+Different+Concentrations\n",
        "\n",
        "heruntergeladen werden. Außerdem werden verschiedene Informationen zu den Daten bereitgestellt. <br>\n",
        "\n",
        "Der Datensatz enthält 13.910 Messungen von 16 chemischen Sensoren, welche abwechselnd sechs verschiedene Gase (Ethanol, Ethen, Ammoniak, Acetaldehyd, Aceton und Toluol) in verschiedenen Konzentrationen untersuchen. <br>\n",
        "Der Datensatz wurde zwischen Januar 2008 und Februar 2011 (36 Monaten) erhoben. <br>\n",
        "Jede Messung liefert anhand der 16 vorhandenen Sensoren eine 16-Kanal-Zeitreihe. <br>\n",
        "Es werden zwei Hauptfeatures in diesem Datensatz betrachtet: <br>\n",
        "$\\rightarrow~$ (i) das stationäre Feature (steady-state) bezeichnet als `DR`, definiert als die maximale Widerstandsänderung in Bezug auf eine Basis, sowie die normalisierte Version davon (`|DR|`). <br>\n",
        "$\\rightarrow~$ (ii) ein Ansammlung an Features welche die Sensordynamik der gesamten Messung wiederspiegelt (`EMAi` und `EMAd` für verschiedene $\\alpha$-Werte). <br>\n",
        "\n",
        "Im folgendem Beispiel werden wir uns nur mit dem `DR` Feature auseinandersetzen. Da jeder der 16 Sensoren diesen Messwert liefert, sind auch 16 verschiedene Messwerte von `DR` vorhanden \"(`DR_1` des ersten Sensors, `DR_2`, des zweiten Sensors und so weiter). "
      ]
    },
    {
      "cell_type": "markdown",
      "metadata": {
        "id": "_LowMEZrsBLy"
      },
      "source": [
        "## Laden des Pandas DataFrames"
      ]
    },
    {
      "cell_type": "markdown",
      "metadata": {
        "id": "DIjon6WTsBL0"
      },
      "source": [
        "Als erstes müssen alle Beispieldatensätze geladen werden. Dieser liegen in 10 verschiedene csv Dateien vor (batch0.csv bis batch9.csv). Anschließend werden diese zu einem gemeinsamen Datensatz zusammengeführt."
      ]
    },
    {
      "cell_type": "code",
      "metadata": {
        "id": "oJomzcycv3QT"
      },
      "source": [
        "\n",
        "!git clone https://github.com/r1marcus/TraintheTrainer-Daten.git\n",
        "!echo $CWD\n",
        "!cp -rf /content/TraintheTrainer-Daten/* /content/"
      ],
      "execution_count": null,
      "outputs": []
    },
    {
      "cell_type": "code",
      "metadata": {
        "id": "0NwltjBnsBL2"
      },
      "source": [
        "import scripts.load\n",
        "\n"
      ],
      "execution_count": null,
      "outputs": []
    },
    {
      "cell_type": "code",
      "metadata": {
        "id": "tIxV7wSnsBL_"
      },
      "source": [
        ""
      ],
      "execution_count": null,
      "outputs": []
    },
    {
      "cell_type": "code",
      "metadata": {
        "id": "3qHMPnHqsBMF"
      },
      "source": [
        "df_modified, df_original,all_files_mod,all_files_original = scripts.load.load()\n"
      ],
      "execution_count": null,
      "outputs": []
    },
    {
      "cell_type": "markdown",
      "metadata": {
        "id": "yOf5D0DPsBMK"
      },
      "source": [
        "## Ein kurzer Blick auf die Datenstruktur"
      ]
    },
    {
      "cell_type": "markdown",
      "metadata": {
        "id": "75ShQS37sBMK"
      },
      "source": [
        "Um ein Gefühl für die Datenstruktur zu erhalten bietet Pandas die folgenden Methoden an: <br>\n",
        "\n",
        "`head(n)` $\\longrightarrow~$ Gibt die $n$ ersten Zeilen (default $n$ = 5) aus. Nützlich um schnell zu testen, ob das Objekt im richtigen Datentyp vorliegt. <br>\n",
        "`info()` $\\longrightarrow~$ Gibt eine übersichtliche Zusammenfassung des DataFrames aus, einschließlich des Index dtypes, des Spalten dtypes, Nicht-Null-Werte sowie den Speicherverbrauch. <br>\n",
        "`describe()` $\\longrightarrow~$ Erstellt deskriptive Statistiken, welche die zentrale Tendenz, Verteilung und Form der Verteilung eines Datensatzes unter Ausschluss von NaN-Werten zusammenfasst. <br>\n",
        "`value_count()` $\\longrightarrow~$ Gibt die Anzahl eindeutiger Werte in absteigender Reihenfolge wieder. Muss an einem Feature aufgerufen werden."
      ]
    },
    {
      "cell_type": "markdown",
      "metadata": {
        "id": "vsBjx7losBMM"
      },
      "source": [
        "Werfen wir als erstes ein Blick auf die `head()` Methode:"
      ]
    },
    {
      "cell_type": "code",
      "metadata": {
        "id": "Mmy90tm-sBMN"
      },
      "source": [
        "df_modified.head()"
      ],
      "execution_count": null,
      "outputs": []
    },
    {
      "cell_type": "markdown",
      "metadata": {
        "id": "lCJKUyQ-sBMS"
      },
      "source": [
        "Die erste Spalte verät uns das Klassenlabel. Die erste Instanz ist demnach eine Messung am Gas Ethanol bei niedriger Konzentration. Alle weitere Spalten beinhalten Daten die zu diesem Zeitpunkt bzw. Messpunkt erhoben worden sind. <br>\n",
        "\n",
        "Rufen wir die `info()` Methode an den ersten fünf Spalten auf."
      ]
    },
    {
      "cell_type": "code",
      "metadata": {
        "id": "OnljC1VwsBMT"
      },
      "source": [
        "df_modified.iloc[:,:5].info()"
      ],
      "execution_count": null,
      "outputs": []
    },
    {
      "cell_type": "markdown",
      "metadata": {
        "id": "_GZpwK4hsBMZ"
      },
      "source": [
        "Für Pandas Indexing und Slicing siehe https://pandas.pydata.org/pandas-docs/stable/user_guide/indexing.html. <br>\n",
        "\n",
        "`info()` listet uns die verschiedene dtypes auf: vier float64 und eins vom Typ object. Anhand der unterschiedlichen Instanzen (total: 13910, DR_1: 13892, ...) erkennen wir, dass der Datensatz unvollständig ist (NaNs können ein Grund dafür sein). <br>"
      ]
    },
    {
      "cell_type": "markdown",
      "metadata": {
        "id": "mzQtu3a2sBMZ"
      },
      "source": [
        "Werfen wir als nächstes ein Blick auf die `describe()` Methode."
      ]
    },
    {
      "cell_type": "code",
      "metadata": {
        "id": "4IFDTKcnsBMa"
      },
      "source": [
        "df_modified.iloc[:,:5].describe()"
      ],
      "execution_count": null,
      "outputs": []
    },
    {
      "cell_type": "markdown",
      "metadata": {
        "id": "x5naPVSesBMf"
      },
      "source": [
        "`describe()` bietet zusätzliche Informationen zu den jeweiligen Features. Dazu gehört die Anzahl, der Mittelwert (mean), die Standardabweichung (std) sowie das minimale, 25%, 50%, 75% und das maximale Quantil."
      ]
    },
    {
      "cell_type": "code",
      "metadata": {
        "id": "xTb4GLAysBMf"
      },
      "source": [
        "df_modified['target'].value_counts()"
      ],
      "execution_count": null,
      "outputs": []
    },
    {
      "cell_type": "markdown",
      "metadata": {
        "id": "xnMVhRYfsBMl"
      },
      "source": [
        "Wir haben `value_counts()` an der `target` Spalte aufgerufen und sehen das Aceton high mit 1834 Einträge über die meisten Messungen verfügt. Gefolgt von Toluol low und so weiter."
      ]
    },
    {
      "cell_type": "markdown",
      "metadata": {
        "id": "pIYqHpdUsBMl"
      },
      "source": [
        "### Pandas Profiling"
      ]
    },
    {
      "cell_type": "markdown",
      "metadata": {
        "id": "0wnQF690sBMm"
      },
      "source": [
        "Im folgenden soll noch Pandas Profiling vorgestellt werden. Pandas Profiling bietet ähnlich wie die `describe()` Methode statistische Auswertungen. Mehr dazu kann auf https://github.com/pandas-profiling/pandas-profiling gelesen werden. <br>\n",
        "\n",
        "Der folgende Code (auskommentiiert da dieser Schritt zeitintensiv ist) erstellt ein vollständigen Bericht und speichert diesen als `report.html` im lokalen Verzeichnis ab."
      ]
    },
    {
      "cell_type": "code",
      "metadata": {
        "id": "LGci_dH-sBMn"
      },
      "source": [
        "'''\n",
        "!pip install -U pandas-profiling\n",
        "import numpy as np\n",
        "import pandas as pd\n",
        "import pandas_profiling\n",
        "profile = df_modified.profile_report(title='Pandas Profiling Report')\n",
        "profile.to_file(output_file=\"report.html\")\n",
        "'''"
      ],
      "execution_count": null,
      "outputs": []
    }
  ]
}