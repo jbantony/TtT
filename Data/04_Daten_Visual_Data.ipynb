{
  "nbformat": 4,
  "nbformat_minor": 0,
  "metadata": {
    "cite2c": {
      "citations": {
        "7429414/A3M3BHVX": {
          "URL": "http://archive.ics.uci.edu/ml/datasets/Gas+Sensor+Array+Drift+Dataset+at+Different+Concentrations",
          "accessed": {
            "day": 14,
            "month": 12,
            "year": 2019
          },
          "id": "7429414/A3M3BHVX",
          "title": "UCI Machine Learning Repository: Gas Sensor Array Drift Dataset at Different Concentrations Data Set",
          "type": "webpage"
        },
        "7429414/F5MSIETD": {
          "URL": "https://scikit-learn.org/stable/modules/feature_selection.html",
          "accessed": {
            "day": 14,
            "month": 12,
            "year": 2019
          },
          "id": "7429414/F5MSIETD",
          "title": "1.13. Feature selection — scikit-learn 0.22 documentation",
          "type": "webpage"
        },
        "7429414/P3YHU5HB": {
          "URL": "https://github.com/pandas-profiling/pandas-profiling",
          "accessed": {
            "day": 14,
            "month": 12,
            "year": 2019
          },
          "id": "7429414/P3YHU5HB",
          "title": "pandas-profiling/pandas-profiling: Create HTML profiling reports from pandas DataFrame objects",
          "type": "webpage"
        },
        "7429414/PJ6TJEXS": {
          "URL": "https://pandas.pydata.org/pandas-docs/stable/user_guide/indexing.html",
          "accessed": {
            "day": 16,
            "month": 12,
            "year": 2019
          },
          "id": "7429414/PJ6TJEXS",
          "title": "Indexing and selecting data — pandas 0.25.3 documentation",
          "type": "webpage"
        },
        "7429414/WP7NDQ54": {
          "URL": "https://scikit-learn.org/stable/auto_examples/model_selection/plot_cv_indices.html#sphx-glr-auto-examples-model-selection-plot-cv-indices-py",
          "accessed": {
            "day": 14,
            "month": 12,
            "year": 2019
          },
          "id": "7429414/WP7NDQ54",
          "title": "Visualizing cross-validation behavior in scikit-learn — scikit-learn 0.22 documentation",
          "type": "webpage"
        },
        "7429414/YMEC4PBD": {
          "URL": "https://www.shanelynn.ie/select-pandas-dataframe-rows-and-columns-using-iloc-loc-and-ix/",
          "abstract": "Pandas Data Selection There are multiple ways to select and index rows and columns from Pandas DataFrames. I find tutorials online focusing on advanced selections of row and column choices a little…",
          "accessed": {
            "day": 14,
            "month": 12,
            "year": 2019
          },
          "author": [
            {
              "family": "shanelynn",
              "given": ""
            }
          ],
          "container-title": "Shane Lynn",
          "id": "7429414/YMEC4PBD",
          "issued": {
            "day": 2,
            "month": 10,
            "year": 2016
          },
          "language": "en-US",
          "title": "Using iloc, loc, & ix to select rows and columns in Pandas DataFrames",
          "type": "webpage"
        }
      }
    },
    "kernelspec": {
      "display_name": "Python 3",
      "language": "python",
      "name": "python3"
    },
    "language_info": {
      "codemirror_mode": {
        "name": "ipython",
        "version": 3
      },
      "file_extension": ".py",
      "mimetype": "text/x-python",
      "name": "python",
      "nbconvert_exporter": "python",
      "pygments_lexer": "ipython3",
      "version": "3.7.7"
    },
    "colab": {
      "name": "04_Daten_Visual_Data.ipynb",
      "provenance": [],
      "toc_visible": true
    }
  },
  "cells": [
    {
      "cell_type": "markdown",
      "metadata": {
        "id": "UVbBcYex0BTC"
      },
      "source": [
        "# Modul Daten"
      ]
    },
    {
      "cell_type": "markdown",
      "metadata": {
        "id": "KoCMoKXf0BTD"
      },
      "source": [
        "Dieses Jupyter Notebook soll einen Überblick über die Aufbereitung, Bereinigung und Visualisierung von Daten vermitteln. \n",
        "\n",
        "Für diesen Zweck wurde die Datenbank Gas Sensor Array Drift verwendet, heruntergeladen und vorher für diesen Zweck manipuliert (Gas- und Konzentrationsklassenlabel wurden zu einem Label zusammen geführt und dabei drei verschiedene Konzentrationsstufen definiert: low, medium und high). <br>\n",
        "Der vollständige Datensatz kann auf <br>\n",
        "\n",
        "http://archive.ics.uci.edu/ml/datasets/Gas+Sensor+Array+Drift+Dataset+at+Different+Concentrations\n",
        "\n",
        "heruntergeladen werden. Außerdem werden verschiedene Informationen zu den Daten bereitgestellt. <br>\n",
        "\n",
        "Der Datensatz enthält 13.910 Messungen von 16 chemischen Sensoren, welche abwechselnd sechs verschiedene Gase (Ethanol, Ethen, Ammoniak, Acetaldehyd, Aceton und Toluol) in verschiedenen Konzentrationen untersuchen. <br>\n",
        "Der Datensatz wurde zwischen Januar 2008 und Februar 2011 (36 Monaten) erhoben. <br>\n",
        "Jede Messung liefert anhand der 16 vorhandenen Sensoren eine 16-Kanal-Zeitreihe. <br>\n",
        "Es werden zwei Hauptfeatures in diesem Datensatz betrachtet: <br>\n",
        "$\\rightarrow~$ (i) das stationäre Feature (steady-state) bezeichnet als `DR`, definiert als die maximale Widerstandsänderung in Bezug auf eine Basis, sowie die normalisierte Version davon (`|DR|`). <br>\n",
        "$\\rightarrow~$ (ii) ein Ansammlung an Features welche die Sensordynamik der gesamten Messung wiederspiegelt (`EMAi` und `EMAd` für verschiedene $\\alpha$-Werte). <br>\n",
        "\n",
        "Im folgendem Beispiel werden wir uns nur mit dem `DR` Feature auseinandersetzen. Da jeder der 16 Sensoren diesen Messwert liefert, sind auch 16 verschiedene Messwerte von `DR` vorhanden \"(`DR_1` des ersten Sensors, `DR_2`, des zweiten Sensors und so weiter). "
      ]
    },
    {
      "cell_type": "markdown",
      "metadata": {
        "id": "3suG5QfE0BTF"
      },
      "source": [
        "## Daten laden"
      ]
    },
    {
      "cell_type": "markdown",
      "metadata": {
        "id": "-luDAr4Z0BTH"
      },
      "source": [
        "Als erstes müssen alle Beispieldatensätze geladen werden. Dieser liegen in 10 verschiedene csv Dateien vor (batch0.csv bis batch9.csv). Anschließend werden diese zu einem gemeinsamen Datensatz zusammengeführt."
      ]
    },
    {
      "cell_type": "code",
      "metadata": {
        "id": "Q1v02WKD0BTJ",
        "colab": {
          "base_uri": "https://localhost:8080/",
          "height": 845
        },
        "outputId": "fc9df1bd-dad5-45a5-9b92-2eda0a86ab48"
      },
      "source": [
        "!git clone https://github.com/r1marcus/TraintheTrainer-Daten.git\n",
        "!echo $CWD\n",
        "!cp -rf /content/TraintheTrainer-Daten/* /content/\n",
        "import scripts.load\n",
        "df_modified, df_original,all_files_mod,all_files_original = scripts.load.load()\n",
        "import scripts.splitt\n",
        "df_training, df_test = scripts.splitt.splitt(all_files_mod,70,30)\n",
        "num_features = ['DR_1', 'DR_2', 'DR_3', 'DR_4']\n",
        "import scripts.clean\n",
        "import numpy as np\n",
        "np_train_prepared,np_test_prepared = scripts.clean.clean(df_training,df_test,num_features)\n",
        "from scipy import stats\n",
        "import pandas as pd\n",
        "%matplotlib inline"
      ],
      "execution_count": null,
      "outputs": [
        {
          "output_type": "stream",
          "text": [
            "Cloning into 'TraintheTrainer-Daten'...\n",
            "remote: Enumerating objects: 123, done.\u001b[K\n",
            "remote: Counting objects: 100% (123/123), done.\u001b[K\n",
            "remote: Compressing objects: 100% (121/121), done.\u001b[K\n",
            "remote: Total 123 (delta 70), reused 0 (delta 0), pack-reused 0\u001b[K\n",
            "Receiving objects: 100% (123/123), 2.32 MiB | 6.41 MiB/s, done.\n",
            "Resolving deltas: 100% (70/70), done.\n",
            "\n",
            "Download dataset from URL: http://archive.ics.uci.edu/ml/machine-learning-databases/00270/\n",
            "Extract files to : /content/input/dataset_dat//driftdataset.zip\n",
            "Convert dat files to csv\n",
            "445 lines have been written for batch 1\n",
            "1244 lines have been written for batch 2\n",
            "1586 lines have been written for batch 3\n",
            "161 lines have been written for batch 4\n",
            "197 lines have been written for batch 5\n",
            "2300 lines have been written for batch 6\n",
            "3613 lines have been written for batch 7\n",
            "294 lines have been written for batch 8\n",
            "470 lines have been written for batch 9\n",
            "3600 lines have been written for batch 10\n",
            "13910 lines have been written in total\n",
            "call load_svmlight_file for batch1.csv\n",
            "call load_svmlight_file for batch2.csv\n",
            "call load_svmlight_file for batch3.csv\n",
            "call load_svmlight_file for batch4.csv\n",
            "call load_svmlight_file for batch5.csv\n",
            "call load_svmlight_file for batch6.csv\n",
            "call load_svmlight_file for batch7.csv\n",
            "call load_svmlight_file for batch8.csv\n",
            "call load_svmlight_file for batch9.csv\n",
            "call load_svmlight_file for batch10.csv\n",
            "[[0.16779934 0.16215523 0.06215994 0.07678074 0.         0.\n",
            "  0.         0.         0.         0.         0.         0.\n",
            "  0.         0.         1.         0.         0.         0.\n",
            "  0.         0.         0.         0.         4.        ]\n",
            " [0.17566441 0.20715738 0.08714379 0.09274065 0.         0.\n",
            "  0.         0.         0.         0.         0.         0.\n",
            "  0.         0.         1.         0.         0.         0.\n",
            "  0.         0.         0.         0.         4.        ]]\n",
            "False False\n",
            "x0_Ethanol low\n"
          ],
          "name": "stdout"
        },
        {
          "output_type": "stream",
          "text": [
            "/usr/local/lib/python3.6/dist-packages/sklearn/base.py:197: FutureWarning: From version 0.24, get_params will raise an AttributeError if a parameter cannot be retrieved as an instance attribute. Previously it would return None.\n",
            "  FutureWarning)\n"
          ],
          "name": "stderr"
        }
      ]
    },
    {
      "cell_type": "markdown",
      "metadata": {
        "id": "yMhqpIUu0BTT"
      },
      "source": [
        "## Visualisierung der Daten"
      ]
    },
    {
      "cell_type": "markdown",
      "metadata": {
        "id": "xKiBA0Dz0BTU"
      },
      "source": [
        "Einer der ersten und wichtigsten Schritte der Datenanalyse ist die Daten zu visualisieren (genannt plotten), um ein tieferes Verständnis für die Daten zu erlangen. Insbesondere können Zusammenhänge verschiedener Features erkannt werden. <br>\n",
        "\n",
        "In Zeitreihenplots sollten wir immer nach Ausreißern, saisonalen Mustern, allgemeinen Trends und anderen interessanten Merkmalen suchen. An dieser Stelle sollten jedoch hoffentlich bereits alle Ausreißer entfernt worden sein. Wir werden sehen."
      ]
    },
    {
      "cell_type": "markdown",
      "metadata": {
        "id": "AB89IYws0BTV"
      },
      "source": [
        "Definieren wir uns noch ein paar Namen für eine übersichtlichere Visualisierung."
      ]
    },
    {
      "cell_type": "code",
      "metadata": {
        "id": "IPhWVnbN0BTW"
      },
      "source": [
        "\n",
        "%matplotlib inline\n",
        "n_gas = 6\n",
        "\n",
        "gas_names = ['Acetaldyh', 'Aceton', 'Ammoniak', 'Ethanol', 'Ethen', 'Toluol']\n",
        "labels = ['low', 'medium', 'high']"
      ],
      "execution_count": null,
      "outputs": []
    },
    {
      "cell_type": "markdown",
      "metadata": {
        "id": "jQvJj4Cx0BTb"
      },
      "source": [
        "Fassen wir die sechs verschiedene Gase zusammen."
      ]
    },
    {
      "cell_type": "code",
      "metadata": {
        "id": "XBiv-pZ90BTc"
      },
      "source": [
        "X_gas = []\n",
        "\n",
        "for i in range(n_gas):\n",
        "    a1 = np_train_prepared[np_train_prepared[:,22] == int(i+1)][:,0:4] # DR Messerwerte\n",
        "    a2 = np_train_prepared[np_train_prepared[:,22] == int(i+1)][:,22] # Textlabel\n",
        "    a3 = np_train_prepared[np_train_prepared[:,22] == int(i+1)][:,i*3+4:i*3+7] * (i+1) # Zugehörige OneHot-Vektoren\n",
        "    X_gas.append(np.c_[np.c_[a2,np.roll(a3,+0,axis=1)],a1])"
      ],
      "execution_count": null,
      "outputs": []
    },
    {
      "cell_type": "code",
      "metadata": {
        "id": "Amq6_V950BTh",
        "colab": {
          "base_uri": "https://localhost:8080/",
          "height": 54
        },
        "outputId": "ef13a843-70e8-4632-bf61-a89cde373b89"
      },
      "source": [
        "X_gas[0][:1]"
      ],
      "execution_count": null,
      "outputs": [
        {
          "output_type": "execute_result",
          "data": {
            "text/plain": [
              "array([[1.        , 0.        , 1.        , 0.        , 0.14759576,\n",
              "        0.21028692, 0.35482412, 0.3798951 ]])"
            ]
          },
          "metadata": {
            "tags": []
          },
          "execution_count": 4
        }
      ]
    },
    {
      "cell_type": "markdown",
      "metadata": {
        "id": "Ifa-1O750BTm"
      },
      "source": [
        "Die erste Zeile ist nun wie folgt aufgebaut: die erste Zahl gibt Auskunft über welches Gas es sich handelt (dies ist der Output der GasLabel Transformation. Die Zahl 1 sagt uns, dass es sich bei dem Gas um Acetaldehyd handelt. Die Gase sind jetzt neu sortiert was für die Visualisierung kein Problem darstellt). Die folgenden drei Spalten gehören dem zugehörigen One-Hot-Vektor (low, medium und high) und die letzten vier Zahlen sind den jeweiligen `DR` Messwerten zuzuordnen."
      ]
    },
    {
      "cell_type": "markdown",
      "metadata": {
        "id": "cyTSd6UI0BTo"
      },
      "source": [
        "### Histogramme"
      ]
    },
    {
      "cell_type": "markdown",
      "metadata": {
        "id": "AsY3AR6X0BTp"
      },
      "source": [
        "Histogramme spielen eine grundlegende Rolle in jeder Art von Datenanalyse. Histogramme geben Aufschluss über die tatsächliche statistische Verteilung der Features (z.B. gleichverteilt, gaußverteilt, poissonverteilt oder skalenfrei verteilt). Dabei können einzelne Features eindimensional dargestellt werden oder in zweidimensionalen Histogrammen miteinander verglichen werden. <br>\n",
        "\n",
        "Es werden $n$ Histogramm-Intervalle, genannt Bins, definiert und dabei zählen wir, wie viel Werte der Stichprobensammlung in das jeweilige Intervall fallen. Diese liefern dann die jeweiligen Häufigkeiten in den Bins, dargestellt durch Balken. <br>\n",
        "\n",
        "Entscheidend dabei ist die Wahl der richtigen Intervallbreite (Binbreite). Zu wenig oder zu viel Bins lässt die Form der Verteilung oftmals nicht erkennen. Betrachten wir daher eine Verteilung mit verschiedenen Binbreiten."
      ]
    },
    {
      "cell_type": "markdown",
      "metadata": {
        "id": "EvysXZwd0BTp"
      },
      "source": [
        "#### Die Wahl der richtigen Binbreite"
      ]
    },
    {
      "cell_type": "code",
      "metadata": {
        "id": "C5WlsJ_00BTr",
        "colab": {
          "base_uri": "https://localhost:8080/",
          "height": 885
        },
        "outputId": "ebd57ff4-3073-424d-bd58-6c2a9c128f46"
      },
      "source": [
        "import scripts.visual\n",
        "%matplotlib inline\n",
        "scripts.visual.histo(np_train_prepared,250)"
      ],
      "execution_count": null,
      "outputs": [
        {
          "output_type": "display_data",
          "data": {
            "text/plain": [
              "<Figure size 432x288 with 0 Axes>"
            ]
          },
          "metadata": {
            "tags": []
          }
        },
        {
          "output_type": "display_data",
          "data": {
            "image/png": "[encoded data removed]",
            "text/plain": [
              "<Figure size 1658.88x933.12 with 1 Axes>"
            ]
          },
          "metadata": {
            "tags": [],
            "needs_background": "light"
          }
        }
      ]
    },
    {
      "cell_type": "markdown",
      "metadata": {
        "id": "LtNoH6DJ0BTv"
      },
      "source": [
        "## Do it yourself:\n"
      ]
    },
    {
      "cell_type": "markdown",
      "metadata": {
        "id": "lzBBkM2N0BTw"
      },
      "source": [
        "Ändern Sie die Binsize auf verschiedene Größen und bestimmen Sie welche am meisten Sinn macht.\n"
      ]
    },
    {
      "cell_type": "code",
      "metadata": {
        "id": "lp67NePF0BTx",
        "colab": {
          "base_uri": "https://localhost:8080/",
          "height": 885
        },
        "outputId": "b78ca1bf-b904-434b-b0b4-0ee191dd4637"
      },
      "source": [
        "bin=100\n",
        "scripts.visual.histo(np_train_prepared,bin)\n"
      ],
      "execution_count": null,
      "outputs": [
        {
          "output_type": "display_data",
          "data": {
            "text/plain": [
              "<Figure size 432x288 with 0 Axes>"
            ]
          },
          "metadata": {
            "tags": []
          }
        },
        {
          "output_type": "display_data",
          "data": {
            "image/png": "[encoded data removed]",
            "text/plain": [
              "<Figure size 1658.88x933.12 with 1 Axes>"
            ]
          },
          "metadata": {
            "tags": [],
            "needs_background": "light"
          }
        }
      ]
    },
    {
      "cell_type": "markdown",
      "metadata": {
        "id": "46GKJ6Wm0BT1"
      },
      "source": [
        "Das Histogramm zur linken offenbart nicht die poissonähnliche Verteilung und erinnert eher an eine Exponentialverteilung. Das Histogram zur rechten zeigt dies schon eher (Achtung: die Poisson-Verteilung ist eine diskrete Wahrscheinslichkeitsverteilung. Um beispielsweise eine Kurve zu fitten sollte man sich vielleicht eher die Beta- oder die Gammafunktion anschauen). Jedoch, würde eine bessere Wahl der Binbreite ein eindeutigeres Ergebnis zeigen. <br>\n",
        "\n",
        "Dazu sollen nun drei verschiedene Methoden zur Ermittlung der Binanzahl $h$ bzw. der Binbreite $h_n$ vorgestellt werden: <br>\n",
        "\n",
        "$\\rightarrow ~$ Anhand der Anzahl der Daten $n$:\n",
        "$$h = 1+\\log_{2}n$$\n",
        "$\\rightarrow ~$ Mittels Gauß-Verteilung mit Standardabweichung $s$:\n",
        "$$h_n = \\frac{3.49\\cdot s}{\\sqrt[3]{n}}$$\n",
        "$\\rightarrow ~$ Mittels Quantilen (gut geeignet für Long-Tail-Verteilungen):\n",
        "$$h_n = \\frac{2\\cdot(\\mathcal{Q}_{75\\%}-\\mathcal{Q}_{25\\%})}{\\sqrt[3]{n}}$$\n",
        "\n",
        "Schauen wir uns das Histogramm vom obigen Beispiel mit diesen drei verschiedenen Methoden zur Binanzahl an sowie einem dynamischen Binning (hier kann/muss der Parameter `density=True` gesetzt werden, um die Bins zu normalisieren)."
      ]
    },
    {
      "cell_type": "code",
      "metadata": {
        "id": "f1glLa7T0BT3",
        "colab": {
          "base_uri": "https://localhost:8080/",
          "height": 616
        },
        "outputId": "b91c580a-e5a0-459e-d439-72f180ca2d5d"
      },
      "source": [
        "scripts.visual.histo2(np_train_prepared)"
      ],
      "execution_count": null,
      "outputs": [
        {
          "output_type": "display_data",
          "data": {
            "text/plain": [
              "<Figure size 432x288 with 0 Axes>"
            ]
          },
          "metadata": {
            "tags": []
          }
        },
        {
          "output_type": "display_data",
          "data": {
            "image/png": "[encoded data removed]",
            "text/plain": [
              "<Figure size 1658.88x933.12 with 4 Axes>"
            ]
          },
          "metadata": {
            "tags": [],
            "needs_background": "light"
          }
        }
      ]
    },
    {
      "cell_type": "markdown",
      "metadata": {
        "id": "ObOToncH0BT7"
      },
      "source": [
        "## Welche Methode eignet sich für den Fall besonders gut?"
      ]
    },
    {
      "cell_type": "markdown",
      "metadata": {
        "id": "6wscHTCT0BT7"
      },
      "source": [
        "<details>\n",
        "<summary>Für Lösung klicken</summary>\n",
        "<br>\n",
        "Die erste Methode scheint offensichtlich in diesem Beispiel keine geeignete Wahl zu sein, da diese sogar eine Gauß-Verteilung zeigen könnte. Handelt es sich um eine multimodale Verteilung geht diese Information bei der ersten, der zweiten sowie bei der vierten Methode verloren. Hier wäre die dritte Methode sicherlich die beste Wahl (wobei auch eine Binanzahl von 100 sicherlich genügen würde). Handelt es sich jedoch nicht um eine multimodale Verteilung ist die zweite und vierte Methode die beste Wahl.\n",
        "    \n",
        "</details>"
      ]
    },
    {
      "cell_type": "markdown",
      "metadata": {
        "id": "klH9v3IA0BT8"
      },
      "source": [
        "### Eindimensionale Histogramme"
      ]
    },
    {
      "cell_type": "markdown",
      "metadata": {
        "id": "2dBbqkrR0BT9"
      },
      "source": [
        "Visualisieren wir als erstes die verschiedene Konzentrationswerte der sechs Gase:"
      ]
    },
    {
      "cell_type": "code",
      "metadata": {
        "id": "MCJO04YU0BT-"
      },
      "source": [
        "scripts.visual.histo1d(np_train_prepared)"
      ],
      "execution_count": null,
      "outputs": []
    },
    {
      "cell_type": "markdown",
      "metadata": {
        "id": "DC3n9T7p0BUB"
      },
      "source": [
        "Dieses Histogramm zeigt die sechs verschiedenen Gase und ihre Konzentrationen. Für die ersten drei Gase wurden am häufigsten Messungen an niedriger Konzentration durchgeführt. Für die letzten drei Gase an einer mittleren Konzentration. Auffällig ist das Toluol sehr wenig Messungen an niedriger Gaskonzentrationen besitzt und Aceton dagegen die meisten."
      ]
    },
    {
      "cell_type": "markdown",
      "metadata": {
        "id": "9EJJFC8N0BUC"
      },
      "source": [
        "Werfen wir ein Blick auf die `DR` Messwerte des ersten Sensors für alle sechs Gase. Dies ermöglicht uns eventuell die zugrundeliegende Verteilung zu erkennen."
      ]
    },
    {
      "cell_type": "code",
      "metadata": {
        "id": "NVbL2IIu0BUE"
      },
      "source": [
        "scripts.visual.histo1da(np_train_prepared)"
      ],
      "execution_count": null,
      "outputs": []
    },
    {
      "cell_type": "markdown",
      "metadata": {
        "id": "d7jGHsSL0BUK"
      },
      "source": [
        "Einige der gezeigten Verteilungen zeigen ein rechtsschiefes Verhalten. Die Spitzen der Verteilungen liegen meist um 0,1. Grund für eine verschobenen Spitze kann ein schlechtes Binning oder ein zu kleiner Stichprobenumfang sein. Letzteres kann auch der Grund sein für die merkwürde Verteilung von Ethanol und Toluol. Da wir aber mehrere verschiedene Kontentrationen der Gase betrachten ist die Verteilung jedoch eher ein Hinweis auf eine multimodale Verteilung."
      ]
    },
    {
      "cell_type": "markdown",
      "metadata": {
        "id": "LkP2-qug0BUK"
      },
      "source": [
        "#### Schiefsymmetrische Verteilungen"
      ]
    },
    {
      "cell_type": "markdown",
      "metadata": {
        "id": "ygBB5E0h0BUL"
      },
      "source": [
        "An dieser Stelle soll nochmal die Wichtigkeit und der Umgang mit schiefsymmetrischen Daten angesprochen werden, da die Transformation schiefsymmetrischer Daten ein wichtiger Schritt der Datenbereinigung darstellt. Schiefe ist ein Maß welche die Abweichung einer Verteilung zur Normalverteilung beschreibt. Einige Machine Learning Algorithmen (z.B. \n",
        "Logistic Regression) führen zu verzerrten Ergebnissen wenn diese mit schiefsymmetrischen Daten gefüttert werden. Die Python Library Scipy verfügt über den Shapiro-Wilks Test um die Schiefe einer Variable festzutellen. <br>\n",
        "\n",
        "Statistische Tests wie der Shapiro-Wilks Test liefern zwei Größen: Die Teststatistik (hier die W-Statistik) und den P-Wert zur schnellen Interpretation des Tests. Wir betrachten daher nur den P-Wert. Die Nullhypothese für diesen Test ist so festgelegt, dass die Daten einer Probe aus einer Normalverteilung stammen. Ist der P-Wert kleiner als 0,05 besitzen die Daten eine signifikante Schiefe."
      ]
    },
    {
      "cell_type": "code",
      "metadata": {
        "id": "Bg3IFKxq0BUM"
      },
      "source": [
        "stats.shapiro(X_gas[4][:,4])"
      ],
      "execution_count": null,
      "outputs": []
    },
    {
      "cell_type": "markdown",
      "metadata": {
        "id": "ZmZYC3aT0BUQ"
      },
      "source": [
        "Der P-Wert ist hier 0 und demnach handelt es sich bei Ethen bei dem `DR` Messwert des ersten Sensors um schiefe Daten. <br>\n",
        "\n",
        "Eine bequemere Möglichkeit die Schiefe von Daten festzustellen, ist die Verwendung der `skew()` Methode die Pandas mitbringt. Diese berechnet den Fisher-Pearson standardisierten Momentkoeffizienten für alle Spalten des DataFrames."
      ]
    },
    {
      "cell_type": "code",
      "metadata": {
        "id": "eRO8gCxr0BUQ"
      },
      "source": [
        "pd.DataFrame(X_gas[4]).skew(axis=0)"
      ],
      "execution_count": null,
      "outputs": []
    },
    {
      "cell_type": "markdown",
      "metadata": {
        "id": "BuJTNZ6b0BUU"
      },
      "source": [
        "Die Ausgabe liefert für jede Spalte einen Wert. Die Zahl 4 entspricht also den `DR` Messwert des ersten und die Zahl sieben des vierten Sensors. Alle Werte sind größer Null und demnach rechtsschief (negative Werte entsprechen linkschiefe Daten und die Zahl Null symmetrisch verteilter Daten). Der Absolutwert des Koeffizienten ist ein Maß für die Stärke der Schiefe. Die Daten des ersten Sensors sind demzufolge am schiefsten verteilt."
      ]
    },
    {
      "cell_type": "markdown",
      "metadata": {
        "id": "JRyLV4P60BUV"
      },
      "source": [
        "Im folgenden werden vier gängige Transformationen vorgestellt um Daten symmetrisch wie möglich darzustellen. Bei der ersten Transformation handelt es sich um die Quadratwurzelt ($\\sqrt{X}$), bei der zweiten um den Logarithmus ($\\log(X)$), bei der dritten um den Kehrwert ($\\frac{1}{X}$) und bei der letzten um die Box-Cox Transformation. <br>\n",
        "\n",
        "Das Beispiel wird ebenfalls wieder für Ethen gezeigt. Für die Transformation verwerfen wir alle Null-Einträge. Eine Alternative hierzu wäre die Addition eines infinitesimalen Wertes (z.B. `np.finfo(float).eps`). Sämtliche Transformationen werden im Anschluss für den Vergleich auf das Intervall von Null bis Eins skaliert."
      ]
    },
    {
      "cell_type": "markdown",
      "metadata": {
        "id": "84c0-fXu0BUV"
      },
      "source": [
        "Optisch liefert die logarithmische Transformation sowie die Box-Cox Transformation das beste Ergebnis. Schauen wir uns jetzt nochmal die Schiefe mit der `skew()` Methode von Pandas an."
      ]
    },
    {
      "cell_type": "code",
      "metadata": {
        "id": "S5BCmxLp0BUX"
      },
      "source": [
        "scripts.visual.sym(np_train_prepared)"
      ],
      "execution_count": null,
      "outputs": []
    },
    {
      "cell_type": "markdown",
      "metadata": {
        "id": "j2EzoZKf0BUb"
      },
      "source": [
        "## Welche Methode eignet sich für den Fall besonders gut?"
      ]
    },
    {
      "cell_type": "markdown",
      "metadata": {
        "id": "E-T1XeTK0BUc"
      },
      "source": [
        "<details>\n",
        "<summary>Für Lösung klicken</summary>\n",
        "<br>\n",
        "Die symmetrischste Verteilung ist also durch die Box-Cox Transformation gegeben (minimal linksscheif) gefolgt von der logarithmischen Transformation. <br>\n",
        "\n",
        "Ist man sich im Vorfeld bewusst, ob die Daten schief sind, können die gewählte Transformation auch in der Pipelines durchgeführt werden.\n",
        "    \n",
        "</details>"
      ]
    },
    {
      "cell_type": "markdown",
      "metadata": {
        "id": "cnwWY6Hw0BUc"
      },
      "source": [
        "### Multiple Histogramme in einem Plot"
      ]
    },
    {
      "cell_type": "markdown",
      "metadata": {
        "id": "Ita1NhRy0BUd"
      },
      "source": [
        "Wie bereits oben gezeigt können mehrere Histogramme in einem Feenster dargestellt werden. Dabei ist der `alpha` Paramter sehr hilfreich um diese transparenter darzustellen."
      ]
    },
    {
      "cell_type": "code",
      "metadata": {
        "id": "yXbv2Mau0BUd"
      },
      "source": [
        "scripts.visual.multhisto(X_gas)"
      ],
      "execution_count": null,
      "outputs": []
    },
    {
      "cell_type": "markdown",
      "metadata": {
        "id": "PDferkyk0BUi"
      },
      "source": [
        "Auffällig ist der unterschiedliche Streubereich zwischen den ersten beiden und den letzten beiden Sensoren. Es scheint als würden die ersten beiden Sensoren einer Poisson-Verteilung folgen. Dies ist für die letzten beiden Sensoren nicht ganz so offensichtlich."
      ]
    },
    {
      "cell_type": "markdown",
      "metadata": {
        "id": "X9t8tlxl0BUj"
      },
      "source": [
        "### Zweidimensionale Histogramme"
      ]
    },
    {
      "cell_type": "markdown",
      "metadata": {
        "id": "8AekSc500BUj"
      },
      "source": [
        "2D Histogramme können Beziehungen zwischen verschiedenen Features offenbaren. Darunter zählt das Intensitätsverhältnis, die Korrelation, Clipping, oder auch der Crosstalk. <br>\n",
        "\n",
        "Dies soll im folgenden Beispiel für das Gas Acetaldehyd für den `DR` Messwert des dritten und vierten Sensors gezeigt werden."
      ]
    },
    {
      "cell_type": "code",
      "metadata": {
        "id": "-uovbUxa0BUk"
      },
      "source": [
        "scripts.visual.histo2d(X_gas)"
      ],
      "execution_count": null,
      "outputs": []
    },
    {
      "cell_type": "markdown",
      "metadata": {
        "id": "oxPfaOHu0BUn"
      },
      "source": [
        "Wir erkennen eine starke Korrelation zwischen diesen beiden Sensoren für das Gas Acetaldhyd. Das Intensitätsmaximum liegt hier bei in etwa 0.3 für beise Sensoren."
      ]
    },
    {
      "cell_type": "markdown",
      "metadata": {
        "id": "fBoUzkWP0BUo"
      },
      "source": [
        "### Zeitreihenplot"
      ]
    },
    {
      "cell_type": "markdown",
      "metadata": {
        "id": "CGeFnN6B0BUq"
      },
      "source": [
        "Schauen wir uns dochmal die Messreihe als Funktion der Konzentrationen (low, medium und high) für das Gas Ethanol an:"
      ]
    },
    {
      "cell_type": "code",
      "metadata": {
        "id": "_C3nnv1r0BUq"
      },
      "source": [
        "scripts.visual.time(X_gas)"
      ],
      "execution_count": null,
      "outputs": []
    },
    {
      "cell_type": "markdown",
      "metadata": {
        "id": "2q6rFMYJ0BUu"
      },
      "source": [
        "Das Messverhalten für den gezeigten Bereich ist größtenteils periodisch. <br>\n",
        "\n",
        "Plotten wir für das selbe Gas die `DR` Messwerte der ersten drei Sensoren."
      ]
    },
    {
      "cell_type": "code",
      "metadata": {
        "id": "yKjkXHOa0BUu"
      },
      "source": [
        "scripts.visual.time2(X_gas)"
      ],
      "execution_count": null,
      "outputs": []
    },
    {
      "cell_type": "markdown",
      "metadata": {
        "id": "Hh_JkoOI0BUx"
      },
      "source": [
        "Wir erkennen, dass die `DR` Messwerte unterschiedlicher Sensoren (Sensor 1: Blau, Sensor 2: Orange, Sensor 3: Grün) unterschiedlich stark skalieren, aber ähnliches Verhalten zeigen. Das kann daran liegen, dass die Sensoren von der Bauweise unterschiedlich sind oder von vorangegenagnenen Messungen beeinträchtigt sind. Uns liegen hierzu keinerlei weiteren Informationen darüber vor. Auch kann der experimentelle Aufbau Grund sein für solche starken Abweichungen (keine homogone und/oder isotropische Verteilung des Gases). <br>\n",
        "\n",
        "Vergleichen wir noch schnell den `DR` Messwert für den ersten Sensor zwischen den Gasen Ethanol, Aceton und Acetaldehyd:"
      ]
    },
    {
      "cell_type": "code",
      "metadata": {
        "id": "byi7aORD0BUy"
      },
      "source": [
        "scripts.visual.time3(X_gas)"
      ],
      "execution_count": null,
      "outputs": []
    },
    {
      "cell_type": "markdown",
      "metadata": {
        "id": "f-75hGuV0BU1"
      },
      "source": [
        "Auch skaliert der `DR` Messert des ersten Sensors in Abhängigkeit der Gase. Bei Aceton ist ein Peak um den Messpunkt ~1250 zu erkennen. Hier kann es sich um lokalen Ausreißer handeln. Die Ausreißerbehandlung die wir weiter oben im Kapitel durchgeführt haben ermittelt ausschließlich globale Ausreißer."
      ]
    },
    {
      "cell_type": "markdown",
      "metadata": {
        "id": "s3TJqP8V0BU1"
      },
      "source": [
        "### Visualiere Mittelwerte und Standardabweichungen"
      ]
    },
    {
      "cell_type": "markdown",
      "metadata": {
        "id": "GudOgkpz0BU2"
      },
      "source": [
        "Die vier verschiedene `DR` Messwerte können auch gemittelt und visualisiert werden um Trends zu erkennen. Im folgenden soll der Mittelwert und die erste sowie die zweite Standardabweichung von Ethen für die ersten 100 Messwerte berechnet und visualisiert werden."
      ]
    },
    {
      "cell_type": "code",
      "metadata": {
        "id": "kZzyuseY0BU3"
      },
      "source": [
        "scripts.visual.mittel(X_gas)"
      ],
      "execution_count": null,
      "outputs": []
    },
    {
      "cell_type": "markdown",
      "metadata": {
        "id": "Souh3Ve30BU6"
      },
      "source": [
        "### Streudiagramme"
      ]
    },
    {
      "cell_type": "markdown",
      "metadata": {
        "id": "IypxoXvF0BU7"
      },
      "source": [
        "Als nächstes soll ein Streudiagramm vorgestellt werden. Streudiagramme werden hauptsächlich verwendet für die Darstellung von zwei Variablen. Dabei können auch wie bereits oben im zweidimensionalen Histogramm erläutert Beziehungen zwischen den untersuchten Variablen offenbart werden. <br>\n",
        "\n",
        "Zunächst plotten wir ein Streudiagramm, welches auf der x-Achse den `DR` Messwert für den ersten Sensor und auf der y-Achse den des dritten Sensor zeigt."
      ]
    },
    {
      "cell_type": "code",
      "metadata": {
        "id": "8hT6IdCk0BU7"
      },
      "source": [
        "scripts.visual.streu(X_gas)"
      ],
      "execution_count": null,
      "outputs": []
    },
    {
      "cell_type": "markdown",
      "metadata": {
        "id": "1j6D-rrr0BU_"
      },
      "source": [
        "### Streumatrixdiagramm"
      ]
    },
    {
      "cell_type": "markdown",
      "metadata": {
        "id": "Z1v3hdxt0BU_"
      },
      "source": [
        "Eine weitere Möglichkeit um Daten auf ihre Korrelation hin zu überprüfen, ist Pandas `scatter_matrix()` Methode. Diese Methode plottet jedes numerische Feature gegen jedes andere. "
      ]
    },
    {
      "cell_type": "code",
      "metadata": {
        "id": "RHRyt8SV0BU_"
      },
      "source": [
        "scripts.visual.streumat(X_gas)"
      ],
      "execution_count": null,
      "outputs": []
    },
    {
      "cell_type": "markdown",
      "metadata": {
        "id": "Y2Q32dsz0BVC"
      },
      "source": [
        "Die diagonalen Plots wären voll mit geraden Linien und daher kann mit dem Paramter `diagonal` zwischen einem Histogramm (`'hist'`, default) oder einer Kerndichteschätzung entschieden werden (`'kde'`). Zwischen dem dritten und vierten Sensor liegt eine starke positive Korrelation vor."
      ]
    },
    {
      "cell_type": "markdown",
      "metadata": {
        "id": "wWHCiY6E0BVC"
      },
      "source": [
        "### Boxdiagramme"
      ]
    },
    {
      "cell_type": "markdown",
      "metadata": {
        "id": "hzQiM9Cz0BVD"
      },
      "source": [
        "Als nächstes soll noch ein Boxdiagramm für die sechs verschiedene Gase in Abhängigkeit des `DR` Messwertes für den ersten Sensor gezeigt werden."
      ]
    },
    {
      "cell_type": "code",
      "metadata": {
        "id": "7p89nDW80BVD"
      },
      "source": [
        "scripts.visual.box(np_train_prepared, X_gas, gas_names,6)"
      ],
      "execution_count": null,
      "outputs": []
    },
    {
      "cell_type": "markdown",
      "metadata": {
        "id": "FRqjR4ee0BVG"
      },
      "source": [
        "Das Boxdiargramm verät uns die Lage und die Streuung der jeweiligen Verteilungen.  <br>\n",
        "\n",
        "Das minimale und das maximale Quantil werden durch die Endstriche auch genannt Whiskers dargestellt.\n",
        "Die Kastenbegrenzungen kennzeichnen das 25% (untere Kastenbegrenzung) und das 75% (obere Kastenbegrenzung) Quantil. Der Strich im Kasten kennzeichnet den Median (50% Quantil). <br>\n",
        " \n",
        "Die Spannweite der Verteilung wird durch das Minimum und das Maximum definiert. Die Länge der Box entspricht dem Interquartilabstand (IQR) in welchem 50% der beobachteten Werte liegen. <br>\n",
        "\n",
        "Ausreißer sind Werte die mindestens den 3-fachen Abstand des IQR haben und werden als Rauten dargstellt (Ausreißer trotz Ausreißerbehandlung? Das liegt hier an der unterschiedlichen Ausreißererkennung)."
      ]
    },
    {
      "cell_type": "markdown",
      "metadata": {
        "id": "dSspRk6M0BVG"
      },
      "source": [
        "### Streudiagramm mit Randhistogrammen"
      ]
    },
    {
      "cell_type": "markdown",
      "metadata": {
        "id": "tBtJO9_R0BVG"
      },
      "source": [
        "An den Rändern eines Streugiagrams können weitere Diagramme visualisiert werden. Dabei werden auf diese Randdiagrammme die jeweiligen Features des Streudiagramms projeziert. Dies soll im folgenden für den `DR` Messwert des zweiten und dritten Sensors für das Gas Aceton (da dieses Gas über  eine große Streuung verfügt, siehe das Boxdiagrammm oben) für alle drei Konzentrationsstufen gezeigt werden. "
      ]
    },
    {
      "cell_type": "code",
      "metadata": {
        "id": "C4Dl81Xn0BVH"
      },
      "source": [
        "scripts.visual.streuhist(X_gas)"
      ],
      "execution_count": null,
      "outputs": []
    },
    {
      "cell_type": "markdown",
      "metadata": {
        "id": "VFNqBTG40BVK"
      },
      "source": [
        "## Vergleiche Originale und bereinigte Daten"
      ]
    },
    {
      "cell_type": "markdown",
      "metadata": {
        "id": "YIfXzhoH0BVK"
      },
      "source": [
        "Hier soll lediglich die Ausreißerbehandlung gezeigt werden. Blau zeigt die verunreinigten Daten und Orange die berreinigten Daten. Es ist gut zu erkennen das der Ausreißer um den Messpunkt 4600 erkannt und entfernt wurde. Auch ist die Auswirkung des gleitenden Median zu erkennen."
      ]
    },
    {
      "cell_type": "code",
      "metadata": {
        "id": "8tdBJwDq0BVK"
      },
      "source": [
        "from IPython.display import Image\n",
        "Image('ausreißer.png')"
      ],
      "execution_count": null,
      "outputs": []
    },
    {
      "cell_type": "markdown",
      "metadata": {
        "id": "a9_ugvF40BVN"
      },
      "source": [
        "## Do it yourself:\n"
      ]
    },
    {
      "cell_type": "markdown",
      "metadata": {
        "id": "bNrhk-mk0BVO"
      },
      "source": [
        "Ändern Sie die Features und Visualisieren Sie die neuen Features mit den kennengelernten Funktionen.\n",
        "Nutzen Sie statt den Sensoren 1-4 die Sensoren 8-12"
      ]
    },
    {
      "cell_type": "code",
      "metadata": {
        "id": "5cbFCgIZ0BVP"
      },
      "source": [
        ""
      ],
      "execution_count": null,
      "outputs": []
    }
  ]
}