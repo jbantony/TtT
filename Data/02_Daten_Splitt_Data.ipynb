{
  "nbformat": 4,
  "nbformat_minor": 0,
  "metadata": {
    "cite2c": {
      "citations": {
        "7429414/A3M3BHVX": {
          "URL": "http://archive.ics.uci.edu/ml/datasets/Gas+Sensor+Array+Drift+Dataset+at+Different+Concentrations",
          "accessed": {
            "day": 14,
            "month": 12,
            "year": 2019
          },
          "id": "7429414/A3M3BHVX",
          "title": "UCI Machine Learning Repository: Gas Sensor Array Drift Dataset at Different Concentrations Data Set",
          "type": "webpage"
        },
        "7429414/F5MSIETD": {
          "URL": "https://scikit-learn.org/stable/modules/feature_selection.html",
          "accessed": {
            "day": 14,
            "month": 12,
            "year": 2019
          },
          "id": "7429414/F5MSIETD",
          "title": "1.13. Feature selection — scikit-learn 0.22 documentation",
          "type": "webpage"
        },
        "7429414/P3YHU5HB": {
          "URL": "https://github.com/pandas-profiling/pandas-profiling",
          "accessed": {
            "day": 14,
            "month": 12,
            "year": 2019
          },
          "id": "7429414/P3YHU5HB",
          "title": "pandas-profiling/pandas-profiling: Create HTML profiling reports from pandas DataFrame objects",
          "type": "webpage"
        },
        "7429414/PJ6TJEXS": {
          "URL": "https://pandas.pydata.org/pandas-docs/stable/user_guide/indexing.html",
          "accessed": {
            "day": 16,
            "month": 12,
            "year": 2019
          },
          "id": "7429414/PJ6TJEXS",
          "title": "Indexing and selecting data — pandas 0.25.3 documentation",
          "type": "webpage"
        },
        "7429414/WP7NDQ54": {
          "URL": "https://scikit-learn.org/stable/auto_examples/model_selection/plot_cv_indices.html#sphx-glr-auto-examples-model-selection-plot-cv-indices-py",
          "accessed": {
            "day": 14,
            "month": 12,
            "year": 2019
          },
          "id": "7429414/WP7NDQ54",
          "title": "Visualizing cross-validation behavior in scikit-learn — scikit-learn 0.22 documentation",
          "type": "webpage"
        },
        "7429414/YMEC4PBD": {
          "URL": "https://www.shanelynn.ie/select-pandas-dataframe-rows-and-columns-using-iloc-loc-and-ix/",
          "abstract": "Pandas Data Selection There are multiple ways to select and index rows and columns from Pandas DataFrames. I find tutorials online focusing on advanced selections of row and column choices a little…",
          "accessed": {
            "day": 14,
            "month": 12,
            "year": 2019
          },
          "author": [
            {
              "family": "shanelynn",
              "given": ""
            }
          ],
          "container-title": "Shane Lynn",
          "id": "7429414/YMEC4PBD",
          "issued": {
            "day": 2,
            "month": 10,
            "year": 2016
          },
          "language": "en-US",
          "title": "Using iloc, loc, & ix to select rows and columns in Pandas DataFrames",
          "type": "webpage"
        }
      }
    },
    "kernelspec": {
      "display_name": "Python 3",
      "language": "python",
      "name": "python3"
    },
    "language_info": {
      "codemirror_mode": {
        "name": "ipython",
        "version": 3
      },
      "file_extension": ".py",
      "mimetype": "text/x-python",
      "name": "python",
      "nbconvert_exporter": "python",
      "pygments_lexer": "ipython3",
      "version": "3.7.7"
    },
    "colab": {
      "name": "02_Daten_Splitt_Data.ipynb",
      "provenance": [],
      "toc_visible": true
    }
  },
  "cells": [
    {
      "cell_type": "markdown",
      "metadata": {
        "id": "8TsdLgI5zYIV"
      },
      "source": [
        "# Modul Daten"
      ]
    },
    {
      "cell_type": "markdown",
      "metadata": {
        "id": "Cfcn2stczYIW"
      },
      "source": [
        "Dieses Jupyter Notebook soll einen Überblick über die Aufbereitung, Bereinigung und Visualisierung von Daten vermitteln. \n",
        "\n",
        "Für diesen Zweck wurde die Datenbank Gas Sensor Array Drift verwendet, heruntergeladen und vorher für diesen Zweck manipuliert (Gas- und Konzentrationsklassenlabel wurden zu einem Label zusammen geführt und dabei drei verschiedene Konzentrationsstufen definiert: low, medium und high). <br>\n",
        "Der vollständige Datensatz kann auf <br>\n",
        "\n",
        "http://archive.ics.uci.edu/ml/datasets/Gas+Sensor+Array+Drift+Dataset+at+Different+Concentrations\n",
        "\n",
        "heruntergeladen werden. Außerdem werden verschiedene Informationen zu den Daten bereitgestellt. <br>\n",
        "\n",
        "Der Datensatz enthält 13.910 Messungen von 16 chemischen Sensoren, welche abwechselnd sechs verschiedene Gase (Ethanol, Ethen, Ammoniak, Acetaldehyd, Aceton und Toluol) in verschiedenen Konzentrationen untersuchen. <br>\n",
        "Der Datensatz wurde zwischen Januar 2008 und Februar 2011 (36 Monaten) erhoben. <br>\n",
        "Jede Messung liefert anhand der 16 vorhandenen Sensoren eine 16-Kanal-Zeitreihe. <br>\n",
        "Es werden zwei Hauptfeatures in diesem Datensatz betrachtet: <br>\n",
        "$\\rightarrow~$ (i) das stationäre Feature (steady-state) bezeichnet als `DR`, definiert als die maximale Widerstandsänderung in Bezug auf eine Basis, sowie die normalisierte Version davon (`|DR|`). <br>\n",
        "$\\rightarrow~$ (ii) ein Ansammlung an Features welche die Sensordynamik der gesamten Messung wiederspiegelt (`EMAi` und `EMAd` für verschiedene $\\alpha$-Werte). <br>\n",
        "\n",
        "Im folgendem Beispiel werden wir uns nur mit dem `DR` Feature auseinandersetzen. Da jeder der 16 Sensoren diesen Messwert liefert, sind auch 16 verschiedene Messwerte von `DR` vorhanden \"(`DR_1` des ersten Sensors, `DR_2`, des zweiten Sensors und so weiter). "
      ]
    },
    {
      "cell_type": "markdown",
      "metadata": {
        "id": "8jJFWWUmzYIY"
      },
      "source": [
        "## Datenladen"
      ]
    },
    {
      "cell_type": "code",
      "metadata": {
        "id": "KVMZfLt8zYIb"
      },
      "source": [
        "!git clone https://github.com/r1marcus/TraintheTrainer-Daten.git\n",
        "!echo $CWD\n",
        "!cp -rf /content/TraintheTrainer-Daten/* /content/\n",
        "import scripts.load\n",
        "df_modified, df_original,all_files_mod,all_files_original = scripts.load.load()"
      ],
      "execution_count": null,
      "outputs": []
    },
    {
      "cell_type": "markdown",
      "metadata": {
        "id": "ggTq4BWAzYIk"
      },
      "source": [
        "## Split der Daten in Trainingsatz und Testsatz"
      ]
    },
    {
      "cell_type": "markdown",
      "metadata": {
        "id": "3Z5vNBnazYIl"
      },
      "source": [
        "Bevor wir die Daten nun visualiseren splitten wir diese in einem Trainings- und einen Testsatz. \n",
        "Es gibt viele Möglichkeiten die Daten in Trainings- und Testsätze aufzuteilen. Für Zeitreihen jedoch kann nicht jede beliebige Variante genommen werden. Ein kurze Visualisierung soll helfen die Wahl der richtigen Aufteilung zu treffen."
      ]
    },
    {
      "cell_type": "code",
      "metadata": {
        "id": "qQg-tUjUzYIm"
      },
      "source": [
        "import scripts.splitt\n",
        "\n",
        "\n",
        "\n",
        "scripts.splitt.show(df_modified)"
      ],
      "execution_count": null,
      "outputs": []
    },
    {
      "cell_type": "markdown",
      "metadata": {
        "id": "6GhavIbMzYIt"
      },
      "source": [
        "Der Plot zeigt den `DR` Messwert des ersten Sensors für Ethanol für alle drei Konzentrationsstufen (low, medium und high). Die roten Linien trennen die 10 Batches voneinander. Es ist zu erkennen, dass sich die Messwerte zwischen den verschiedenen Batches stark unterscheiden können (auch innerhalb der Batches). <br>\n",
        "\n",
        "Die Aufteilung in ein Trainings- und Testsatz erfolgt gemäß einer Zeitreihe (eine Möglichkeit diese aufzuteilen ist 70:30 oder 80:20 (Training:Test) und hängt letztlich von den maximal verfügbaren Datenmengen ab). Die letzten beiden Batches (batch8.csv und batch9.csv) werden für das testen verwendet und von nun an beiseite gelegt."
      ]
    },
    {
      "cell_type": "code",
      "metadata": {
        "id": "S6rabU9EzYIu"
      },
      "source": [
        "df_training, df_test = scripts.splitt.splitt(all_files_mod,70,30)"
      ],
      "execution_count": null,
      "outputs": []
    },
    {
      "cell_type": "code",
      "metadata": {
        "id": "Yz8fMRV3zYIz"
      },
      "source": [
        "df_training.shape, df_test.shape"
      ],
      "execution_count": null,
      "outputs": []
    },
    {
      "cell_type": "markdown",
      "metadata": {
        "id": "Y9BxrFHTzYI4"
      },
      "source": [
        "Die verbliebene Trainingsdaten können dann zum Beispiel mit dem `GroupKFold` Kreuzvalidierungsmodell weiter in einen Trainings- und Validierungssatz aufgeteilt werden. Weitere Möglichkeiten zur Aufteilung kann auf der Homepage von SciKit-Learn nachgelesen werden https://scikit-learn.org/stable/auto_examples/model_selection/plot_cv_indices.html#sphx-glr-auto-examples-model-selection-plot-cv-indices-py. <br>\n",
        "\n",
        "Als nächstes werden die Trainingsdaten von Ausreißern, fehlenden Werten sowie vom Rauschen bereinigt."
      ]
    },
    {
      "cell_type": "markdown",
      "metadata": {
        "id": "ZrkDqygyzYI5"
      },
      "source": [
        "## Do it yourself:\n"
      ]
    },
    {
      "cell_type": "markdown",
      "metadata": {
        "id": "0WPJijJ6zYI6"
      },
      "source": [
        "Der Trainings/Testdatensplitt soll auf 80/20 geändert werden."
      ]
    },
    {
      "cell_type": "code",
      "metadata": {
        "id": "toJkk0yMzYI7"
      },
      "source": [
        "df_training, df_test = scripts.splitt.splitt(all_files_mod,72,30)\n",
        "df_training.shape, df_test.shape"
      ],
      "execution_count": null,
      "outputs": []
    }
  ]
}