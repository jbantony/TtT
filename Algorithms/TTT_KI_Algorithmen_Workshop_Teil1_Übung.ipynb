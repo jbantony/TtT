{
 "cells": [
  {
   "cell_type": "markdown",
   "metadata": {
    "id": "Z1-re0hCqU9z"
   },
   "source": [
    "# Train-the-Trainer Hands-on Workshop: Maschinelles Lernen Projektarbeit\n",
    "\n",
    "Benjamin Bergner, Stefan Konigorski, Matthias Kirchler (Hasso Plattner Institut)\n",
    "20. November 2020\n",
    "\n",
    "Willkommen zur Projektarbeit mit Machine Learning in scikit-learn."
   ]
  },
  {
   "cell_type": "markdown",
   "metadata": {
    "id": "I1ZJY6uglh85"
   },
   "source": [
    "## Agenda\n",
    "\n",
    "<a name=\"Agenda\"></a>\n",
    "\n",
    "| Inhalt | Zeit |\n",
    "| :--- | :---: |\n",
    "| Einführung | 10:00 - 10:15 |\n",
    "| 1) Einführung in Machine Learning mit scikit-learn | 10:15 - 11:00|\n",
    "|  a) Klassische Vorhersagemodelle | |\n",
    "|  b) Unüberwachtes Lernen mit Clusteranalyse & PCA | |\n",
    "| Übungen in scikit-learn in Kleingruppen | 11:00 - 11:30|\n",
    "| Besprechung der Ergebnisse | 11:30 - 11:45|\n",
    "| Pause | 11:45 - 12:15|\n",
    "| 2) Einführung in Deep Learning mit fast.ai | 12:15 - 13:00|\n",
    "| Projektarbeit in fast.ai - Kleingruppen | 13:00 - 13:30|\n",
    "| Besprechung der Ergebnisse | 13:30 - 13:45|\n",
    "| Abschluss | 13:45 - 14:00|"
   ]
  },
  {
   "cell_type": "markdown",
   "metadata": {
    "id": "lUlH6ETGl9I1"
   },
   "source": [
    "## Willkommen zur Übung zum Maschinellen Lernen mit `scikit-learn`\n",
    "\n",
    " \n",
    "\n",
    "In den folgenden Übungen machen Sie sich noch näher mit scikit-learn vertraut. Es gibt hierfür je nach Interesse zwei Übungsteile. Wählen Sie zwischen den (1) klassischen Vorhersagemodellen oder der (2) Clusteranalyse. Sie können das Inhaltsverzeichnis nutzen, um zu den jeweiligen Übungen zu navigieren."
   ]
  },
  {
   "cell_type": "markdown",
   "metadata": {
    "id": "286l0ot-zNuX"
   },
   "source": [
    "<hr>\n",
    "\n",
    "#(1) Klassische Vorhersagemodelle\n",
    "\n",
    "In dieser Übung wenden Sie selbst Logistische Regression mit einem Attribut ihrer Wahl an. Des Weiteren schauen Sie, wie gut ein weiterer Algorithmus, die Entscheidungsbäume und die verwandten Zufallsbäume auf diesem Datensatz funktionieren."
   ]
  },
  {
   "cell_type": "markdown",
   "metadata": {
    "id": "pdQN7qaeo_SZ"
   },
   "source": [
    "### Module importieren\n",
    "\n",
    "Wir importieren zu Anfang alle Module, die Sie für diese Übung benötigen. Die folgende Zelle muss zu Beginn ausgeführt werden."
   ]
  },
  {
   "cell_type": "code",
   "execution_count": null,
   "metadata": {
    "id": "r1vVpvk3o7ro"
   },
   "outputs": [],
   "source": [
    "import pandas as pd\n",
    "import numpy as np\n",
    "from matplotlib import pyplot as plt\n",
    "from sklearn.model_selection import train_test_split\n",
    "from sklearn.linear_model import LogisticRegression\n",
    "from sklearn import tree\n",
    "from sklearn.ensemble import RandomForestClassifier"
   ]
  },
  {
   "cell_type": "markdown",
   "metadata": {
    "id": "WOm1gqEhzOts"
   },
   "source": [
    "### Daten laden\n",
    "\n",
    "Der Datensatz wird geladen. Zeigen Sie die ersten Werte des Datensatzes an, um einen Überblick zu bekommen.\n"
   ]
  },
  {
   "cell_type": "code",
   "execution_count": null,
   "metadata": {
    "id": "WPGh2WyhqU9z"
   },
   "outputs": [],
   "source": [
    "dataset_url = \"https://raw.githubusercontent.com/benjaminbergner/colab/main/Pima_diabetes.csv\"\n",
    "diabetes_df = pd.read_csv(dataset_url)"
   ]
  },
  {
   "cell_type": "code",
   "execution_count": null,
   "metadata": {
    "colab": {
     "base_uri": "https://localhost:8080/",
     "height": 204
    },
    "executionInfo": {
     "elapsed": 1019,
     "status": "ok",
     "timestamp": 1605263290765,
     "user": {
      "displayName": "Stefan Konigorski",
      "photoUrl": "",
      "userId": "10817119451481275004"
     },
     "user_tz": -60
    },
    "id": "NhCJcXh5nK2q",
    "outputId": "6ed1d413-c24c-4fbc-bac2-b29f21d385b5"
   },
   "outputs": [
    {
     "data": {
      "text/html": [
       "<div>\n",
       "<style scoped>\n",
       "    .dataframe tbody tr th:only-of-type {\n",
       "        vertical-align: middle;\n",
       "    }\n",
       "\n",
       "    .dataframe tbody tr th {\n",
       "        vertical-align: top;\n",
       "    }\n",
       "\n",
       "    .dataframe thead th {\n",
       "        text-align: right;\n",
       "    }\n",
       "</style>\n",
       "<table border=\"1\" class=\"dataframe\">\n",
       "  <thead>\n",
       "    <tr style=\"text-align: right;\">\n",
       "      <th></th>\n",
       "      <th>Schwangerschaften</th>\n",
       "      <th>Glukosespiegel</th>\n",
       "      <th>Blutdruck</th>\n",
       "      <th>Hautdicke</th>\n",
       "      <th>Insulin</th>\n",
       "      <th>BMI</th>\n",
       "      <th>DiabetesFamiliengeschichte</th>\n",
       "      <th>Alter</th>\n",
       "      <th>Diabetes</th>\n",
       "    </tr>\n",
       "  </thead>\n",
       "  <tbody>\n",
       "    <tr>\n",
       "      <th>0</th>\n",
       "      <td>1</td>\n",
       "      <td>89</td>\n",
       "      <td>66</td>\n",
       "      <td>23</td>\n",
       "      <td>94</td>\n",
       "      <td>28.1</td>\n",
       "      <td>0.167</td>\n",
       "      <td>21</td>\n",
       "      <td>0</td>\n",
       "    </tr>\n",
       "    <tr>\n",
       "      <th>1</th>\n",
       "      <td>0</td>\n",
       "      <td>137</td>\n",
       "      <td>40</td>\n",
       "      <td>35</td>\n",
       "      <td>168</td>\n",
       "      <td>43.1</td>\n",
       "      <td>2.288</td>\n",
       "      <td>33</td>\n",
       "      <td>1</td>\n",
       "    </tr>\n",
       "    <tr>\n",
       "      <th>2</th>\n",
       "      <td>3</td>\n",
       "      <td>78</td>\n",
       "      <td>50</td>\n",
       "      <td>32</td>\n",
       "      <td>88</td>\n",
       "      <td>31.0</td>\n",
       "      <td>0.248</td>\n",
       "      <td>26</td>\n",
       "      <td>1</td>\n",
       "    </tr>\n",
       "    <tr>\n",
       "      <th>3</th>\n",
       "      <td>2</td>\n",
       "      <td>197</td>\n",
       "      <td>70</td>\n",
       "      <td>45</td>\n",
       "      <td>543</td>\n",
       "      <td>30.5</td>\n",
       "      <td>0.158</td>\n",
       "      <td>53</td>\n",
       "      <td>1</td>\n",
       "    </tr>\n",
       "    <tr>\n",
       "      <th>4</th>\n",
       "      <td>1</td>\n",
       "      <td>189</td>\n",
       "      <td>60</td>\n",
       "      <td>23</td>\n",
       "      <td>846</td>\n",
       "      <td>30.1</td>\n",
       "      <td>0.398</td>\n",
       "      <td>59</td>\n",
       "      <td>1</td>\n",
       "    </tr>\n",
       "  </tbody>\n",
       "</table>\n",
       "</div>"
      ],
      "text/plain": [
       "   Schwangerschaften  Glukosespiegel  ...  Alter  Diabetes\n",
       "0                  1              89  ...     21         0\n",
       "1                  0             137  ...     33         1\n",
       "2                  3              78  ...     26         1\n",
       "3                  2             197  ...     53         1\n",
       "4                  1             189  ...     59         1\n",
       "\n",
       "[5 rows x 9 columns]"
      ]
     },
     "execution_count": 5,
     "metadata": {
      "tags": []
     },
     "output_type": "execute_result"
    }
   ],
   "source": [
    "# Hier sind Sie am Zug!\n",
    "# Verwenden Sie den zuvor erstellen Dataframe und zeigen Sie die ersten 5 Zeilen an.\n",
    "diabetes_df[:5] # Entfernen Sie diesen Kommentar um den Befehl dann ausführen zu können. "
   ]
  },
  {
   "cell_type": "markdown",
   "metadata": {
    "id": "Cu_vPvL31B7P"
   },
   "source": [
    "### Trainings- und Testdatensatz generieren\n",
    "\n",
    "Zuerst wird der Datensatz erstellt. Da wir Diabetes vorhersagen wollen, wird diese Variable aus `x` entfernt und in der Zielvariable `y` gespeichert. Darauffolgend werden Trainings- und Testdatensplits generiert. Der Testdatensatz beinhaltet 30% des gesamten Datensatzes."
   ]
  },
  {
   "cell_type": "code",
   "execution_count": null,
   "metadata": {
    "id": "wPOLHfuN04ss"
   },
   "outputs": [],
   "source": [
    "y = diabetes_df.Diabetes\n",
    "x = diabetes_df.drop('Diabetes', axis=1)\n",
    "x_train, x_test, y_train, y_test = train_test_split(x, y, test_size=0.3, random_state=12)"
   ]
  },
  {
   "cell_type": "markdown",
   "metadata": {
    "id": "QH4g734bqU90"
   },
   "source": [
    "### Logistische Regression\n",
    "\n",
    "Nun geht es ans Eingemachte. Für diese Übung wählen Sie eine einzelne Variable aus, die Ihnen relevant erscheint um Diabetes vorherzusagen. Daraufhin wird die logistische Regression durchgeführt. Wie genau ist das Modell? Welche Variable sagt wohl am besten vorher?"
   ]
  },
  {
   "cell_type": "code",
   "execution_count": null,
   "metadata": {
    "id": "LqFRuql6qU90"
   },
   "outputs": [],
   "source": [
    "# Hier sind Sie am Zug!\n",
    "# Ersetzen Sie VARIABLENNAME durch eine der folgenden Attribute (Anfangsbuchstabe muss groß sein):\n",
    "# Schwangerschaften, Glukosespiegel, Blutdruck, Hautdicke, Insulin, BMI, DiabetesFamiliengeschichte, Alter\n",
    "VARIABLENNAME_train = np.array(x_train.VARIABLENNAME).reshape(-1,1)\n",
    "logreg = LogisticRegression(max_iter=1000)\n",
    "logreg.fit(VARIABLENNAME_train, y_train)"
   ]
  },
  {
   "cell_type": "code",
   "execution_count": null,
   "metadata": {
    "id": "tIFUcAQrqU91"
   },
   "outputs": [],
   "source": [
    "# Hier sind Sie am Zug!\n",
    "# Nutzen Sie dieselbe Variable wie zuvor, um die Testdaten zu generieren und\n",
    "# führen Sie die logistische Regression aus.\n",
    "VARIABLENNAME_test = np.array(x_test.VARIABLENNAME).reshape(-1,1)\n",
    "logreg_predict = logreg.predict(VARIABLENNAME_test)\n",
    "logreg_predict"
   ]
  },
  {
   "cell_type": "code",
   "execution_count": null,
   "metadata": {
    "id": "WVl96ICuqU92"
   },
   "outputs": [],
   "source": [
    "pd.crosstab(y_test, logreg_predict)"
   ]
  },
  {
   "cell_type": "code",
   "execution_count": null,
   "metadata": {
    "id": "XJRgURdzqU93"
   },
   "outputs": [],
   "source": [
    "# Hier sind Sie am Zug!\n",
    "# Errechnen Sie, wie gut ihr Modell funktioniert, in dem Sie VARIABLENNAME wie zuvor ersetzen.\n",
    "logreg.score(VARIABLENNAME_test, y_test)"
   ]
  },
  {
   "cell_type": "markdown",
   "metadata": {
    "id": "3hJuloe2tyhM"
   },
   "source": [
    "Sehr gut, sie sollten nun einen Genauigkeitsscore sehen. **Notieren Sie Ihr Ergebnis. Können Sie es verbessern, indem Sie diese Übung nochmals mit einem anderen Attribut ausführen?**"
   ]
  },
  {
   "cell_type": "markdown",
   "metadata": {
    "id": "SidLH_CuqU93"
   },
   "source": [
    "### Entscheidungsbäume\n",
    "\n",
    "Ein weiterer bekannter Klassifikationsalgorithmus aus dem Maschinellen Lernen ist der Entscheidungsbaum. Dieser trifft eine Vorhersage, indem schrittweise alle Variablen betrachtet werden. Es wird dabei mit der Variable begonnen, die die Zielvariable Diabetes am besten vorhersagt. An jedem Knoten wird ein Grenzwert definiert, der die Richtung im nachfolgenden \"Ast\" vorgibt. Jede Verzweigung endet letztlich in der Klassifikation.\n",
    "\n",
    "<img src=https://blog.iao.fraunhofer.de/images/blog/decision-tree.png width=\"500\">"
   ]
  },
  {
   "cell_type": "markdown",
   "metadata": {
    "id": "3y9w40vRcmtb"
   },
   "source": [
    "Entscheidungsbäume können sehr komplexe Regeln definieren. Diese Komplexität wird durch die Baumtiefe bestimmt."
   ]
  },
  {
   "cell_type": "code",
   "execution_count": null,
   "metadata": {
    "id": "h9OsizbhqU94"
   },
   "outputs": [],
   "source": [
    "# Hier sind Sie am Zug!\n",
    "# Setzen Sie eine Maximaltiefe Ihrer Wahl.\n",
    "MAXIMALE_TIEFE = \n",
    "dt = tree.DecisionTreeClassifier(random_state=2, max_depth=MAXIMALE_TIEFE)"
   ]
  },
  {
   "cell_type": "markdown",
   "metadata": {
    "id": "vpPt09-Pu1RY"
   },
   "source": [
    "Nun ist das Modell bereit zu lernen."
   ]
  },
  {
   "cell_type": "code",
   "execution_count": null,
   "metadata": {
    "id": "qc28zaDKu4HO"
   },
   "outputs": [],
   "source": [
    "dt.fit(x_train, y_train)"
   ]
  },
  {
   "cell_type": "markdown",
   "metadata": {
    "id": "SPZa6nIAu6cg"
   },
   "source": [
    "Das fertig gelernte Modell kann nun auf den Testdaten angewandt werden, um zu überprüfen, wie gut es funktioniert."
   ]
  },
  {
   "cell_type": "code",
   "execution_count": null,
   "metadata": {
    "id": "RpvXW5LlvAOA"
   },
   "outputs": [],
   "source": [
    "dt.score(x_test, y_test)"
   ]
  },
  {
   "cell_type": "markdown",
   "metadata": {
    "id": "0LL4sY5mVvKg"
   },
   "source": [
    "Schauen wir uns den Baum einmal an:"
   ]
  },
  {
   "cell_type": "code",
   "execution_count": null,
   "metadata": {
    "id": "oWChm_xsTBA1"
   },
   "outputs": [],
   "source": [
    "plt.figure(figsize=(40,20), dpi=300)  \n",
    "_ = tree.plot_tree(dt, feature_names=x_train.columns, \n",
    "             filled=True, fontsize=6, rounded=True)\n",
    "plt.show()"
   ]
  },
  {
   "cell_type": "markdown",
   "metadata": {
    "id": "mSBZfCbfWET4"
   },
   "source": [
    "Die Blätter (untersten Knoten) geben die Werte der beiden Klassen an.\n",
    "\n",
    "```\n",
    "value = [Nicht Diabetes, Diabetes]\n",
    "```\n",
    "\n",
    "Sie müssen, um dies zu sehen, ggf. etwas in das Bild hineinzoomen.\n",
    "\n",
    "**Gehen Sie zurück und definieren einen weiteren Entscheidungsbaum mit einer anderen maximalen Tiefe. Können Sie interessante Regeln ablesen? Wie verhält sich die Genauigkeit des Modells zur Tiefe?**\n",
    "<hr>\n"
   ]
  },
  {
   "cell_type": "markdown",
   "metadata": {
    "id": "MbGnI0UWqU94"
   },
   "source": [
    "###Zufallsbäume\n",
    "\n",
    "Eine spezielle Variante von Entscheidungsbäumen sind Zufallsbäume (Random Forests). Wie der Name vorgibt, werden eine Vielzahl von Entscheidungsbäumen trainiert. Jeder Baum hat hierbei Zugriff auf eine zufällige Auswahl an Attributen, wodurch leicht unterschiedliche Regeln entstehen. Letztlich werden die Ergebnisse aller Bäume gemittelt, wodurch häufig verbesserte Ergebnisse entstehen. **Trainieren und evaluieren Sie dieses Modell. Welche Ergebnisse erhalten Sie im Vergleich zum einzelnen Entscheidungsbaum?**"
   ]
  },
  {
   "cell_type": "code",
   "execution_count": null,
   "metadata": {
    "id": "AlywBFdLqU94"
   },
   "outputs": [],
   "source": [
    "rf = RandomForestClassifier(random_state=2)"
   ]
  },
  {
   "cell_type": "code",
   "execution_count": null,
   "metadata": {
    "id": "EEqhVJuO4tCC"
   },
   "outputs": [],
   "source": [
    "# Hier sind Sie am Zug!\n",
    "# Trainieren Sie den zuvor erstellten rf Klassifikator. Tipp: Die Syntax ist gleich zum Entscheidungsbaum\n"
   ]
  },
  {
   "cell_type": "code",
   "execution_count": null,
   "metadata": {
    "id": "vnyzmBOj5EwE"
   },
   "outputs": [],
   "source": [
    "# Hier sind Sie am Zug!\n",
    "# Evaluieren Sie Ihr fertig trainiertes Modell. Tipp: Die Syntax ist gleich zum Entscheidungsbaum\n"
   ]
  },
  {
   "cell_type": "markdown",
   "metadata": {
    "id": "hdcuCPZ0FRjI"
   },
   "source": [
    "Herzlichen Glückwunsch. Sie haben mehrere Algorithmen des maschinellen Lernens selbstständig ausprobiert. Wollen Sie noch mehr lernen? Probieren Sie es doch mal mit der Übung 2."
   ]
  },
  {
   "cell_type": "markdown",
   "metadata": {
    "id": "YPcBIqF1qU95"
   },
   "source": [
    "<hr>\n",
    "\n",
    "# (2) Clusteranalyse & PCA\n",
    "\n",
    "In dieser Übung wenden Sie den K-Means Algorithmus auf einen selbst gewählten Subset von Attributen an und identifizieren interessante Zusammenhänge in den Daten."
   ]
  },
  {
   "cell_type": "markdown",
   "metadata": {
    "id": "YPEiJVpU57ud"
   },
   "source": [
    "### Module importieren\n",
    "\n",
    "Wir importieren anfangs alle Module, die Sie für diese Übung benötigen. Die folgende Zelle muss zu Beginn ausgeführt werden."
   ]
  },
  {
   "cell_type": "code",
   "execution_count": null,
   "metadata": {
    "id": "TGDzCZZm57uf"
   },
   "outputs": [],
   "source": [
    "import pandas as pd\n",
    "import numpy as np\n",
    "from sklearn.preprocessing import StandardScaler\n",
    "from sklearn.cluster import KMeans\n",
    "from sklearn.decomposition import PCA\n",
    "import seaborn as sns"
   ]
  },
  {
   "cell_type": "markdown",
   "metadata": {
    "id": "IjHx2x7u_Pan"
   },
   "source": [
    "### Lade Daten\n",
    "\n",
    "Der Datensatz wird geladen. Zeigen Sie die ersten Werte des Datensatzes an, um einen Überblick zu bekommen.\n"
   ]
  },
  {
   "cell_type": "code",
   "execution_count": null,
   "metadata": {
    "id": "dyxgZgSt_Par"
   },
   "outputs": [],
   "source": [
    "dataset_url = \"https://raw.githubusercontent.com/benjaminbergner/colab/main/Pima_diabetes.csv\"\n",
    "diabetes_df = pd.read_csv(dataset_url)"
   ]
  },
  {
   "cell_type": "code",
   "execution_count": null,
   "metadata": {
    "id": "Agqj6OH67QMI"
   },
   "outputs": [],
   "source": [
    "# Hier sind Sie am Zug!\n",
    "# Verwenden Sie den zuvor erstellen Dataframe und zeigen Sie die ersten 5 Zeilen an.\n"
   ]
  },
  {
   "cell_type": "markdown",
   "metadata": {
    "id": "guPRj72G_Pa1"
   },
   "source": [
    "### Datensatz vorverarbeiten\n",
    "Für diese Übung stellen Sie Ihren Datensatz selbst zusammen - d.h. Sie bestimmen die Attribute, in denen Sie Gruppen identifizieren wollen.\n",
    "\n",
    "\n"
   ]
  },
  {
   "cell_type": "code",
   "execution_count": null,
   "metadata": {
    "id": "-vp0kNjg_Pa2"
   },
   "outputs": [],
   "source": [
    "# Hier sind Sie am Zug!\n",
    "# Ergänzen Sie Variable x um mindestens 3 Attribute ihrer Wahl.\n",
    "x = diabetes_df[['Alter', 'Alter', 'Alter']]"
   ]
  },
  {
   "cell_type": "markdown",
   "metadata": {
    "id": "xXD4gWzO7oks"
   },
   "source": [
    "Ein weiterer Schritt: Datennormalisierung, damit jedes Attribut gleichermaßen wichtig für das Clustering ist."
   ]
  },
  {
   "cell_type": "code",
   "execution_count": null,
   "metadata": {
    "id": "_WOCUay6AYM6"
   },
   "outputs": [],
   "source": [
    "scaler = StandardScaler()\n",
    "x_norm = scaler.fit_transform(x)\n",
    "x_norm.shape"
   ]
  },
  {
   "cell_type": "markdown",
   "metadata": {
    "id": "7kR28JTIIo8_"
   },
   "source": [
    "Die erste Zahl dieser Ausgabe beinhaltet die Anzahl an Personen, die zweite Zahl die Anzahl aller Attribute, die Sie selektiert haben."
   ]
  },
  {
   "cell_type": "markdown",
   "metadata": {
    "id": "InCPZb5jA-Ra"
   },
   "source": [
    "### Clustering\n",
    "\n",
    "Nun können wir mit dem Clustering beginnen. Aber zuvor noch eine kleine Sache: K-Means benötigt eine bestimmte Anzahl zu identifizierender Gruppen."
   ]
  },
  {
   "cell_type": "code",
   "execution_count": null,
   "metadata": {
    "id": "h7CFubprAqa1"
   },
   "outputs": [],
   "source": [
    "# Hier sind Sie am Zug!\n",
    "# Wählen Sie die Anzahl an Cluster aus, die Sie identifizieren wollen. \n",
    "ANZAHL_CLUSTER = \n",
    "kmeans = KMeans(n_clusters=ANZAHL_CLUSTER)"
   ]
  },
  {
   "cell_type": "markdown",
   "metadata": {
    "id": "YuzX7yqR8Rsx"
   },
   "source": [
    "Das Modell können Sie nun mit dem Befehl ```fit_predict(IHRE DATEN)``` trainieren. Dieser Befehl trainiert sowohl das Modell und gibt die Vorhersagen zurück."
   ]
  },
  {
   "cell_type": "code",
   "execution_count": null,
   "metadata": {
    "id": "1tpbYHuD8cJ4"
   },
   "outputs": [],
   "source": [
    "# Hier sind Sie am Zug!\n",
    "# Trainieren Sie das Modell auf den normalisierten Daten.\n",
    "# Fügen Sie Ihren Code am Ende der folgenden Zeile hinzu.\n",
    "preds_kmeans = kmeans."
   ]
  },
  {
   "cell_type": "markdown",
   "metadata": {
    "id": "YDsmXdPt8xYW"
   },
   "source": [
    "Sehr gut. Das Modell ist fertig trainiert. Wir kommen gleich nochmal auf die getätigten Vorhersagen, die sich nun in `preds_kmeans` befinden, zurück."
   ]
  },
  {
   "cell_type": "markdown",
   "metadata": {
    "id": "A9QQY2w7C6bX"
   },
   "source": [
    "### Datenvisualisierung mit PCA\n",
    "\n",
    "Wir wollen die Dimensionen der Daten von der gewählten Attributzahl auf 2 begrenzen, um die Daten visualisieren zu können, ohne den wesentlichen Informationsgehalt zu verlieren. Wir wenden dafür Principal Component Analysis (PCA) an.\n",
    "\n",
    "Sie können den Befehl `fit_transform` des Objektes `pca` nutzen, um die Daten zu komprimieren."
   ]
  },
  {
   "cell_type": "code",
   "execution_count": null,
   "metadata": {
    "id": "O1myeH52ClC8"
   },
   "outputs": [],
   "source": [
    "# Hier sind Sie am Zug!\n",
    "# Transformieren Sie die normalisierten Daten mittels PCA.\n",
    "# Fügen Sie Ihren Code am Ende der folgenden Zeile hinzu.\n",
    "pca = PCA(n_components=2)\n",
    "pc = pca."
   ]
  },
  {
   "cell_type": "markdown",
   "metadata": {
    "id": "drrRSs3ERJ9w"
   },
   "source": [
    "Datenvisualisierung ist essenziell für die Interpretation der Ergebnisse. Hierfür können wir einen `scatterplot` nutzen."
   ]
  },
  {
   "cell_type": "code",
   "execution_count": null,
   "metadata": {
    "id": "zJUMXbGsD1IC"
   },
   "outputs": [],
   "source": [
    "# Hier sind Sie am Zug!\n",
    "# Visualisieren Sie die Daten durch Ausführen der nächsten Zelle.\n",
    "# Ergänzen Sie den Funktionsaufruf durch den Parameter hue=preds_kmeans, um die Cluster darzustellen.\n",
    "sns.scatterplot(x=pc[:,0], y=pc[:,1])"
   ]
  },
  {
   "cell_type": "markdown",
   "metadata": {
    "id": "hz2lUZxHRx6i"
   },
   "source": [
    "### Ergebnisse interpretieren\n",
    "\n",
    "Die Anordnung der Datenpunkte geben einen Überblick über die geformten Cluster. Wir können zusätzlich die Verteilungen der Attributwerte innerhalb der Cluster und Zusammenhänge zwischen den Variablen visualisieren.\n",
    "\n",
    "**Führen Sie die folgende Zelle aus. Welche Schlussfolgerungen können Sie aus der Darstellung ziehen?**"
   ]
  },
  {
   "cell_type": "code",
   "execution_count": null,
   "metadata": {
    "id": "98sWArGEPHoG"
   },
   "outputs": [],
   "source": [
    "x_norm_inverse = scaler.inverse_transform(x_norm)\n",
    "df_clust = pd.DataFrame(x_norm_inverse, index=x.index, columns=x.columns)\n",
    "df_clust['clust'] = preds_kmeans\n",
    "\n",
    "sns.pairplot(df_clust, hue='clust', palette='Blues')"
   ]
  },
  {
   "cell_type": "markdown",
   "metadata": {
    "id": "ckhQP-XfSDq7"
   },
   "source": [
    "Das maschinelle Lernen ist ein iterativer Prozess. **Wiederholen Sie ggf. diese Übung mit einer anderen Auswahl von Attributen und/oder ändern Sie die Anzahl der Cluster.**\n",
    "<hr>"
   ]
  },
  {
   "cell_type": "markdown",
   "metadata": {
    "id": "hWFLT9vFFpcE"
   },
   "source": [
    "Herzlichen Glückwunsch. Sie haben mehrere Algorithmen des maschinellen Lernens selbstständig ausprobiert. Wollen Sie noch mehr lernen? Probieren Sie es doch mal mit der Übung 1."
   ]
  }
 ],
 "metadata": {
  "colab": {
   "collapsed_sections": [],
   "name": "TTT_KI_Algorithmen_Workshop_Teil1_Übung.ipynb",
   "provenance": []
  },
  "kernelspec": {
   "display_name": "Python 3",
   "language": "python",
   "name": "python3"
  },
  "language_info": {
   "codemirror_mode": {
    "name": "ipython",
    "version": 3
   },
   "file_extension": ".py",
   "mimetype": "text/x-python",
   "name": "python",
   "nbconvert_exporter": "python",
   "pygments_lexer": "ipython3",
   "version": "3.8.3"
  }
 },
 "nbformat": 4,
 "nbformat_minor": 1
}
