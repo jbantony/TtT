{
  "nbformat": 4,
  "nbformat_minor": 0,
  "metadata": {
    "kernelspec": {
      "display_name": "Python 3",
      "language": "python",
      "name": "python3"
    },
    "language_info": {
      "codemirror_mode": {
        "name": "ipython",
        "version": 3
      },
      "file_extension": ".py",
      "mimetype": "text/x-python",
      "name": "python",
      "nbconvert_exporter": "python",
      "pygments_lexer": "ipython3",
      "version": "3.8.5"
    },
    "colab": {
      "name": "Deep Learning Tutorium",
      "provenance": [],
      "collapsed_sections": [
        "69U5uzuEDxjn"
      ],
      "toc_visible": true
    },
    "accelerator": "GPU"
  },
  "cells": [
    {
      "cell_type": "markdown",
      "metadata": {
        "id": "r2Lqc3q3DaWy"
      },
      "source": [
        "# Train-the-Trainer Hands-on Workshop: Deep Learning Projektarbeit\n",
        "Benjamin Bergner, Stefan Konigorski, Matthias Kirchler (Hasso Plattner Institut)\n",
        "20. November 2020\n",
        "\n",
        "Willkommen zur Projektarbeit mit Deep Learning in fast.ai"
      ]
    },
    {
      "cell_type": "markdown",
      "metadata": {
        "id": "69U5uzuEDxjn"
      },
      "source": [
        "## Agenda\n",
        "\n",
        "<a name=\"Agenda\"></a>\n",
        "\n",
        "| Inhalt | Zeit |\n",
        "| :--- | :---: |\n",
        "| Einführung | 10:00 - 10:15 |\n",
        "| 1) Einführung in Machine Learning mit scikit-learn | 10:15 - 11:00|\n",
        "|  a) Klassische Vorhersagemodelle | |\n",
        "|  b) Unüberwachtes Lernen mit Clusteranalyse & PCA | |\n",
        "| Übungen in scikit-learn in Kleingruppen | 11:00 - 11:30|\n",
        "| Besprechung der Ergebnisse | 11:30 - 11:45|\n",
        "| Pause | 11:45 - 12:15|\n",
        "| 2) Einführung in Deep Learning mit fast.ai | 12:15 - 13:00|\n",
        "| Projektarbeit in fast.ai - Kleingruppen | 13:00 - 13:30|\n",
        "| Besprechung der Ergebnisse | 13:30 - 13:45|\n",
        "| Abschluss | 13:45 - 14:00|"
      ]
    },
    {
      "cell_type": "markdown",
      "metadata": {
        "id": "HoRy7J5RZ0op"
      },
      "source": [
        "## Vorbemerkung\n",
        "Bevor Sie mit der Ausführung beginnen, sollten Sie den Laufzeittyp (\"runtime type\", falls Ihre Sprache auf Englisch eingestellt ist) auf \"GPU\" ändern: \n",
        "\n",
        "1.\n",
        "\n",
        "<img src=\"https://drive.google.com/uc?export=view&id=1uTzSVK4BCAUwxJ1a1b-mB86jwZ_cbFAR\" width=\"400\"/>\n",
        "\n",
        "\n",
        "2.\n",
        "\n",
        "<img src=\"https://drive.google.com/uc?export=view&id=11dDC7mx-MyoNIx0jyTiiT4RLtEPmi-aO\" width=\"400\"/>\n"
      ]
    },
    {
      "cell_type": "markdown",
      "metadata": {
        "id": "krClLCgXZ0or"
      },
      "source": [
        "Als nächstes müssen Sie die folgende Zeile ausführen um benötigte Software zu installieren.\n",
        "\n",
        "Die Fehlermeldung `ERROR: fastai 2.0.6 has requirement fastcore>=1.0.0, but you'll have fastcore 0.1.38 which is incompatible.` können Sie ignorieren. Sollten andere Fehler auftreten, wenden Sie sich bitte an einen der Moderatoren."
      ]
    },
    {
      "cell_type": "code",
      "metadata": {
        "cellView": "both",
        "id": "pVvxYUJSZ0ot"
      },
      "source": [
        "# Diese Zeile muss am Anfang ein mal ausgeführt werden. Danach müssen Sie sie nicht mehr ausführen\n",
        "! pip install torch==1.6.0+cu101 torchvision==0.7.0+cu101 -f https://download.pytorch.org/whl/torch_stable.html\n",
        "! pip install fastai==2.0.6\n",
        "! pip install fastcore==0.1.38"
      ],
      "execution_count": null,
      "outputs": []
    },
    {
      "cell_type": "markdown",
      "metadata": {
        "id": "dXSvlAE58U7q"
      },
      "source": [
        "# Willkommen zur Deep Learning Übung mit `fast.ai`\n"
      ]
    },
    {
      "cell_type": "code",
      "metadata": {
        "id": "EM9kBOcx8U7m"
      },
      "source": [
        "# Diese Zeile muss nach jedem Neustart der Laufzeit neu gestartet werden!\n",
        "import os\n",
        "from os import path as osp\n",
        "from fastai.vision.all import *\n",
        "from torchvision import models"
      ],
      "execution_count": null,
      "outputs": []
    },
    {
      "cell_type": "markdown",
      "metadata": {
        "id": "Qt7SwdZPNz4i"
      },
      "source": [
        "**Das Ziel dieser Übung ist es, einen (oder mehrere) der vorgeschlagenen Datensätze zu verwenden, und ein möglichst gutes Convolutional Neural Network darauf zu trainieren! Wir haben alles schon für Sie vorbereitet, so dass Sie nur die jeweiligen Parameter ändern müssen. In der Besprechung am Ende der Session werden dann die Ergebnisse verglichen.**\n",
        "\n",
        "In diesem Notebook können Sie Ihre eigenen Netzwerke trainieren und herausfinden, welche Parameter das Training auf welche Weise beeinflussen. Zeilen, in denen Sie eine Entscheidung treffen müssen sind jeweils zu Beginn markiert mit dem Kommentar:\n",
        "\n",
        "```python\n",
        "# Hier sind Sie am Zug!\n",
        "```\n",
        "Auf die meisten dieser \"Entscheidungszeilen\" folgen dann ein oder mehrere andere Zeilen, die Sie einfach nur ausführen müssen, in denen aber nichts verändert werden muss. Diese Zeilen dürfen Sie natürlich auch verändern, aber dort sind sinnvolle Änderungen deutlich schwerer. Sollten Sie sich nicht sicher sein, lassen Sie diese Zeilen am besten unverändert.\n",
        "\n",
        "\n",
        "**Bei vielen Problemen hilft es, die \"Laufzeit\" (\"Runtime\") neu zu starten. Das können Sie oben in der Leiste unter \"Laufzeit\" -> \"Laufzeit neu starten\" tun (bzw. \"Runtime\" -> \"Restart runtime...\"). Nach einem Neustart der Laufzeit müssen Sie immer die Zeile mit den `import` und `from ...` statements neu ausführen, und auch alle anderen vorher ausgeführten Befehle hat `Colab` dann wieder vergessen und müssen eventuell neu ausgeführt werden.**\n",
        "\n",
        "**Auch wenn Sie einen `CUDA out of memory error` bekommen hilft es meist, die Laufzeit einfach neu zu starten. Falls das nicht ausreicht, müssen Sie die `batch_size` verkleinern und/oder die Netzwerkarchitektur (`model`) verkleinern.**\n",
        "\n",
        "Beachten Sie auch, dass Sie pro Person maximal **ein** Notebook mit GPU parallel verwenden können. Da das Training teilweise einige Minuten dauern kann, können Sie in Ihrer Gruppe überlegen, ob zwei Teilnehmer gleichzeitig das Notebook mit anderen Parametern ausführen sollen. \n"
      ]
    },
    {
      "cell_type": "markdown",
      "metadata": {
        "id": "tvYbpAKI8U7q"
      },
      "source": [
        "\n",
        "## Datensätze\n",
        "\n",
        "Sie können diese Übung mit einem von verschiedenen Datensätzen machen. Wenn Sie den Datensatz wechseln ergibt es meist Sinn, den Kernel neu zu starten (s.o.). In jedem Fall muss die darauffolgende Zeile (die mit `if dataset == ` startet) nach jeder Datensatzänderung neu ausgeführt werden!\n",
        "\n",
        "Die Datensätze sind:\n",
        "\n",
        "* **ImageWoof**: Der Datensatz zur Klassifizierung verschiedener Hunderassen, den Sie schon kennen gelernt haben\n",
        "\n",
        "* **ImageNette**: Ein einfacherer Datensatz mit verschiedenen Klassen wie \"Kassetenspieler\", \"Kettensäge\", oder \"Fallschirm\".\n",
        "\n",
        "* **Dogs vs Cats**: Ein relativ großer und einfacher Datensatz zur Unterscheidung zwischen Hunden und Katzen. **Achtung: da dieser Datensatz etwas größer ist als die anderen, kann das Training auch ein bisschen länger dauern!**"
      ]
    },
    {
      "cell_type": "code",
      "metadata": {
        "id": "EZ96C0Kj8U7r"
      },
      "source": [
        "# Hier sind Sie am Zug!\n",
        "# Wählen Sie einen Datensatz indem sie die entsprechende Zeile entkommentieren (das `#` entfernen)\n",
        "\n",
        "# dataset = 'imagewoof'\n",
        "dataset = 'imagenette'\n",
        "# dataset = 'dogs_vs_cats'"
      ],
      "execution_count": null,
      "outputs": []
    },
    {
      "cell_type": "code",
      "metadata": {
        "id": "1UAJIU3x8U7u"
      },
      "source": [
        "# führen Sie diese Zeile immer aus, wenn sie die `dataset` Variable geändert haben!\n",
        "\n",
        "if dataset == 'imagewoof':\n",
        "    path_to_data = 'data/imagewoof2-160'\n",
        "    if not osp.isdir(path_to_data):\n",
        "        os.makedirs(path_to_data, exist_ok=True)\n",
        "        ! wget https://www.dropbox.com/s/83f1a0lz3fwlytw/imagewoof2-160.tar -O data/imagewoof2-160.tar\n",
        "        ! tar -xf data/imagewoof2-160.tar -C data\n",
        "elif dataset == 'imagenette':\n",
        "    path_to_data = 'data/imagenette2-160'\n",
        "    if not osp.isdir(path_to_data):\n",
        "        os.makedirs(path_to_data, exist_ok=True)\n",
        "        ! wget https://www.dropbox.com/s/ixi7k76o9f3bx95/imagenette2-160.tar -O data/imagenette2-160.tar\n",
        "        ! tar -xf data/imagenette2-160.tar -C data\n",
        "elif dataset == 'dogs_vs_cats':\n",
        "    path_to_data = 'data/dvc'\n",
        "    if not osp.isdir(path_to_data):\n",
        "        os.makedirs(path_to_data, exist_ok=True)\n",
        "        ! wget https://www.dropbox.com/s/g3wil4y460c8tkb/dvc.tar -O data/dvc.tar\n",
        "        ! tar -xf data/dvc.tar -C data\n",
        "print(f'\\n\\nDatensatz {dataset} erfolgreich vorbereitet!')"
      ],
      "execution_count": null,
      "outputs": []
    },
    {
      "cell_type": "markdown",
      "metadata": {
        "id": "0-0uFsQA8U7x"
      },
      "source": [
        "## Datenparameter\n",
        "\n",
        "Als nächstes können wir verschiedene Parameter zum Datenladen variieren. Die wichtigsten Parameter sind die Bildgröße und die verschiedenen Bildtransformationen (\"Data Augmentation\").\n",
        "\n",
        "Spielen Sie am besten ein bisschen mit den Transformationen herum. Sie können verschiedene der Transformationen ent- und wieder auskommentieren, und auch die Parameter innerhalb der Transformationen variieren. Um zu sehen, wie sich die verschiedenen Optionen auf die Bilder auswirken, führen Sie einfach die nachfolgende Zeile aus.\n",
        "\n",
        "Die Option `RandomErasing` malt zufälliges Rauschen in Teilen des Bildes. Die Parameter `sl` und `sh` bestimmen die minimale und maximale Größe des ersetzten Gebietes.\n",
        "\n"
      ]
    },
    {
      "cell_type": "code",
      "metadata": {
        "id": "5KqgEx3q8U7y"
      },
      "source": [
        "# Hier sind Sie am Zug!\n",
        "\n",
        "# Bildgröße, wie im Netzwerk verwendet\n",
        "size = 128\n",
        "\n",
        "# wie viele Bilder guckt sich das Netzwerk immer gleichzeitig an\n",
        "batch_size = 32\n",
        "\n",
        "# Hier muss immer mindestens Resize oder RandomResizedCrop vorkommen!\n",
        "item_tfms = [\n",
        "    Resize(size),    # oder stattdessen: RandomResizedCrop(size, min_scale=0.35),\n",
        "    # FlipItem(0.5),\n",
        "]\n",
        "\n",
        "\n",
        "batch_tfms = [\n",
        "    # Rotate(max_deg=10, p=0.5),\n",
        "    # Brightness(max_lighting=0.1, p=0.5, batch=False),\n",
        "    # Contrast(max_lighting=0.2, p=0.75, batch=False),\n",
        "    # Saturation(max_lighting=0.1, p=0.75, batch=False),\n",
        "    # RandomErasing(p=1, sl=0.01, sh=0.3, max_count=6),\n",
        "]"
      ],
      "execution_count": null,
      "outputs": []
    },
    {
      "cell_type": "code",
      "metadata": {
        "id": "X_AL7vbE8U71"
      },
      "source": [
        "# führen Sie diese Zeile immer aus, wenn sie eine der vorherigen Zeilen verändert haben!\n",
        "\n",
        "data = ImageDataLoaders.from_folder(\n",
        "    path_to_data,\n",
        "    train='train',\n",
        "    valid='val',\n",
        "    bs=batch_size,\n",
        "    item_tfms=item_tfms,\n",
        "    batch_tfms=batch_tfms,\n",
        ")\n",
        "data.show_batch()"
      ],
      "execution_count": null,
      "outputs": []
    },
    {
      "cell_type": "markdown",
      "metadata": {
        "id": "w7ep-j5_8U74"
      },
      "source": [
        "## Netzwerkparameter\n",
        "\n",
        "Nun können wir verschiedene Netzwerkarchitekturen ausprobieren. Größere Architekturen (meist kenntlich durch größere Zahlen, wie `resnet18` zu `resnet50`) haben zwar häufig bessere Kapazitäten, helfen auf kleinen Datensätzen nicht immer viel weiter und können auch deutlich langsamer im Training sein!\n",
        "\n",
        "\n",
        "* `resnet`: Die ResNet Architekturen sind extrem weit verbreitet im modernen Deep Learning. Sie sind nicht immer das absolut beste Model, aber sind immer eine gute \"erste Wahl\".\n",
        "\n",
        "* `alexnet`: Die AlexNet Architektur war die erste \"echte\" Deep Learning Architektur auf Bilddaten, die gut funktioniert hat. Heute ist sie ein bisschen veraltet.\n",
        "\n",
        "* `densenet`: Densenets sind ziemlich große Netzwerke, die auf Resnets aufbauen.\n",
        "\n",
        "* `squeezenet`: Squeezenets sind sehr kleine Netzwerke, die auch sehr schnell auf herkömmlichen Smartphones laufen."
      ]
    },
    {
      "cell_type": "code",
      "metadata": {
        "id": "dM4jgwBQ8U75"
      },
      "source": [
        "# Hier sind Sie am Zug!\n",
        "\n",
        "# resnets\n",
        "# model = models.resnet18\n",
        "# model = models.resnet50\n",
        "# model = models.resnet101\n",
        "\n",
        "# alexnet\n",
        "model = models.alexnet\n",
        "\n",
        "# densenets\n",
        "# model = models.densenet121\n",
        "# model = models.densenet161\n",
        "\n",
        "# squeezenet\n",
        "# model = models.squeezenet1_1"
      ],
      "execution_count": null,
      "outputs": []
    },
    {
      "cell_type": "markdown",
      "metadata": {
        "id": "vQ2R9yh68U78"
      },
      "source": [
        "## Training\n",
        "\n",
        "Jetzt sind wir soweit, dass wir unser Netzwerk trainieren können!"
      ]
    },
    {
      "cell_type": "code",
      "metadata": {
        "id": "5z_1U9Jl8U78"
      },
      "source": [
        "# Hier sind Sie am Zug!\n",
        "\n",
        "# auf welche Weise soll trainiert werden?\n",
        "# learning_type = 'basic'\n",
        "learning_type = 'fine_tuning'\n",
        "\n",
        "# lernrate\n",
        "lr = 'suggested'\n",
        "# lr = 0.001\n",
        "\n",
        "# sollen wir ein vortrainiertes Netzwerk nehmen?\n",
        "pretrained = True # oder: \"= False\"\n",
        "\n",
        "# für wie viele Runden sollen wir trainieren?\n",
        "epochs = 3"
      ],
      "execution_count": null,
      "outputs": []
    },
    {
      "cell_type": "code",
      "metadata": {
        "id": "BL4CliZ08U7_"
      },
      "source": [
        "# führen Sie diese Zeile immer aus, wenn sie eine der vorherigen Zeilen verändert haben!\n",
        "\n",
        "learner = cnn_learner(data, model, metrics=error_rate, pretrained=pretrained)\n",
        "if lr == 'suggested':\n",
        "    lr = learner.lr_find().lr_min\n",
        "    print(f'Empfohlene Lernrate ist {lr:.4f}')"
      ],
      "execution_count": null,
      "outputs": []
    },
    {
      "cell_type": "markdown",
      "metadata": {
        "id": "VQxZJWKbg10x"
      },
      "source": [
        "Jetzt sind wir wieder bereit zu trainieren!\n",
        "\n",
        "**Für `imagenette` und `imagewoof` dauert das Training je nach Parameterwahl ca. 20-120 Sekunden pro Epoche, für `dogs_vs_cats` teilweise länger. Nutzen Sie diese Zeit effizient und überlegen Sie schon gemeinsam, welche Trainingsstrategie und -parameter Sie als nächstes ausprobieren wollen!**"
      ]
    },
    {
      "cell_type": "code",
      "metadata": {
        "id": "mKw2g0tm8U8C"
      },
      "source": [
        "# führen Sie diese Zeile immer aus, wenn sie eine der vorherigen Zeilen verändert haben!\n",
        "\n",
        "if learning_type == 'basic':\n",
        "    learner.fit(epochs, lr=lr)\n",
        "elif learning_type == 'fine_tuning':\n",
        "    learner.fine_tune(freeze_epochs=1, epochs=epochs, lr=lr)\n",
        "learner.recorder.plot_loss()"
      ],
      "execution_count": null,
      "outputs": []
    },
    {
      "cell_type": "markdown",
      "metadata": {
        "id": "djba-fLB8U8E"
      },
      "source": [
        "## Trainingsevaluation\n",
        "\n",
        "Wir vergleichen unser Ergebnis zu einem einfachen, \"uninformierten\" Referenzalgorithmus (Baseline): \"Was passiert, wenn man immer die häufigste Kategorie vorhersagt, ohne auf das Bild zu schauen?\""
      ]
    },
    {
      "cell_type": "code",
      "metadata": {
        "id": "4NbHrCFJb1Wz"
      },
      "source": [
        "interp = ClassificationInterpretation.from_learner(learner)\n",
        "preds = interp.preds.argmax(1)\n",
        "\n",
        "baseline_error_rate = 1-np.unique(interp.targs, return_counts=True)[1].max() / len(interp.targs)\n",
        "print(f'Fehlerrate für Referenzalgorithmus (baseline): {100*baseline_error_rate:.1f}%')\n",
        "\n",
        "cnn_error_rate = (interp.targs != preds).float().mean()\n",
        "print(f'Fehlerrate des Netzwerks: {100*cnn_error_rate:.1f}%')"
      ],
      "execution_count": null,
      "outputs": []
    },
    {
      "cell_type": "markdown",
      "metadata": {
        "id": "BrpbvYdqb320"
      },
      "source": [
        "Zum Schluß können wir uns noch anschauen, welche Bilder das Netzwerk falsch klassifiziert:"
      ]
    },
    {
      "cell_type": "code",
      "metadata": {
        "id": "og3gTx6-8U8F"
      },
      "source": [
        "interp.plot_top_losses(9, figsize=(15,15))"
      ],
      "execution_count": null,
      "outputs": []
    },
    {
      "cell_type": "markdown",
      "metadata": {
        "id": "v_4EaZRUaj5X"
      },
      "source": [
        "## Iteration\n",
        "\n",
        "Hervorragend, Sie haben Ihr erstes neuronales Netz traininert! Gehen Sie jetzt wieder zurück und verändern Sie andere Parameter, um herauszufinden, wie Sie die Leistung des Netzwerkes noch verbessern können.\n",
        "\n",
        "Denken Sie daran, die Laufzeit neu zu starten, wenn Sie Probleme oder unerwartete Ergebnisse erhalten\n",
        "\n",
        "In der Besprechung der Ergebnisse können Sie Ihre bestes Resultat dann teilen."
      ]
    }
  ]
}